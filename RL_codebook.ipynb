{
 "cells": [
  {
   "cell_type": "markdown",
   "metadata": {},
   "source": [
    "### gym"
   ]
  },
  {
   "cell_type": "code",
   "execution_count": 2,
   "metadata": {},
   "outputs": [],
   "source": [
    "import numpy as np\n",
    "np.random.seed(0)\n",
    "import pandas as pd\n",
    "import gym"
   ]
  },
  {
   "cell_type": "code",
   "execution_count": 5,
   "metadata": {},
   "outputs": [
    {
     "data": {
      "text/html": [
       "<div>\n",
       "<style scoped>\n",
       "    .dataframe tbody tr th:only-of-type {\n",
       "        vertical-align: middle;\n",
       "    }\n",
       "\n",
       "    .dataframe tbody tr th {\n",
       "        vertical-align: top;\n",
       "    }\n",
       "\n",
       "    .dataframe thead th {\n",
       "        text-align: right;\n",
       "    }\n",
       "</style>\n",
       "<table border=\"1\" class=\"dataframe\">\n",
       "  <thead>\n",
       "    <tr style=\"text-align: right;\">\n",
       "      <th></th>\n",
       "      <th>观测空间</th>\n",
       "      <th>动作空间</th>\n",
       "      <th>奖励范围</th>\n",
       "      <th>最大步数</th>\n",
       "    </tr>\n",
       "  </thead>\n",
       "  <tbody>\n",
       "    <tr>\n",
       "      <th>Copy-v0</th>\n",
       "      <td>Discrete(6)</td>\n",
       "      <td>(Discrete(2), Discrete(2), Discrete(5))</td>\n",
       "      <td>(-inf, inf)</td>\n",
       "      <td>200</td>\n",
       "    </tr>\n",
       "    <tr>\n",
       "      <th>RepeatCopy-v0</th>\n",
       "      <td>Discrete(6)</td>\n",
       "      <td>(Discrete(2), Discrete(2), Discrete(5))</td>\n",
       "      <td>(-inf, inf)</td>\n",
       "      <td>200</td>\n",
       "    </tr>\n",
       "    <tr>\n",
       "      <th>ReversedAddition-v0</th>\n",
       "      <td>Discrete(4)</td>\n",
       "      <td>(Discrete(4), Discrete(2), Discrete(3))</td>\n",
       "      <td>(-inf, inf)</td>\n",
       "      <td>200</td>\n",
       "    </tr>\n",
       "    <tr>\n",
       "      <th>ReversedAddition3-v0</th>\n",
       "      <td>Discrete(4)</td>\n",
       "      <td>(Discrete(4), Discrete(2), Discrete(3))</td>\n",
       "      <td>(-inf, inf)</td>\n",
       "      <td>200</td>\n",
       "    </tr>\n",
       "    <tr>\n",
       "      <th>DuplicatedInput-v0</th>\n",
       "      <td>Discrete(6)</td>\n",
       "      <td>(Discrete(2), Discrete(2), Discrete(5))</td>\n",
       "      <td>(-inf, inf)</td>\n",
       "      <td>200</td>\n",
       "    </tr>\n",
       "    <tr>\n",
       "      <th>Reverse-v0</th>\n",
       "      <td>Discrete(3)</td>\n",
       "      <td>(Discrete(2), Discrete(2), Discrete(2))</td>\n",
       "      <td>(-inf, inf)</td>\n",
       "      <td>200</td>\n",
       "    </tr>\n",
       "    <tr>\n",
       "      <th>CartPole-v0</th>\n",
       "      <td>Box(4,)</td>\n",
       "      <td>Discrete(2)</td>\n",
       "      <td>(-inf, inf)</td>\n",
       "      <td>200</td>\n",
       "    </tr>\n",
       "    <tr>\n",
       "      <th>CartPole-v1</th>\n",
       "      <td>Box(4,)</td>\n",
       "      <td>Discrete(2)</td>\n",
       "      <td>(-inf, inf)</td>\n",
       "      <td>500</td>\n",
       "    </tr>\n",
       "    <tr>\n",
       "      <th>MountainCar-v0</th>\n",
       "      <td>Box(2,)</td>\n",
       "      <td>Discrete(3)</td>\n",
       "      <td>(-inf, inf)</td>\n",
       "      <td>200</td>\n",
       "    </tr>\n",
       "    <tr>\n",
       "      <th>MountainCarContinuous-v0</th>\n",
       "      <td>Box(2,)</td>\n",
       "      <td>Box(1,)</td>\n",
       "      <td>(-inf, inf)</td>\n",
       "      <td>999</td>\n",
       "    </tr>\n",
       "    <tr>\n",
       "      <th>Pendulum-v0</th>\n",
       "      <td>Box(3,)</td>\n",
       "      <td>Box(1,)</td>\n",
       "      <td>(-inf, inf)</td>\n",
       "      <td>200</td>\n",
       "    </tr>\n",
       "    <tr>\n",
       "      <th>Acrobot-v1</th>\n",
       "      <td>Box(6,)</td>\n",
       "      <td>Discrete(3)</td>\n",
       "      <td>(-inf, inf)</td>\n",
       "      <td>500</td>\n",
       "    </tr>\n",
       "    <tr>\n",
       "      <th>Blackjack-v0</th>\n",
       "      <td>(Discrete(32), Discrete(11), Discrete(2))</td>\n",
       "      <td>Discrete(2)</td>\n",
       "      <td>(-inf, inf)</td>\n",
       "      <td>None</td>\n",
       "    </tr>\n",
       "    <tr>\n",
       "      <th>KellyCoinflip-v0</th>\n",
       "      <td>(Box(1,), Discrete(301))</td>\n",
       "      <td>Discrete(25000)</td>\n",
       "      <td>(0, 250.0)</td>\n",
       "      <td>None</td>\n",
       "    </tr>\n",
       "    <tr>\n",
       "      <th>KellyCoinflipGeneralized-v0</th>\n",
       "      <td>(Box(1,), Discrete(266), Discrete(266), Discre...</td>\n",
       "      <td>Discrete(30200)</td>\n",
       "      <td>(0, 302.0)</td>\n",
       "      <td>None</td>\n",
       "    </tr>\n",
       "    <tr>\n",
       "      <th>FrozenLake-v0</th>\n",
       "      <td>Discrete(16)</td>\n",
       "      <td>Discrete(4)</td>\n",
       "      <td>(0, 1)</td>\n",
       "      <td>100</td>\n",
       "    </tr>\n",
       "    <tr>\n",
       "      <th>FrozenLake8x8-v0</th>\n",
       "      <td>Discrete(64)</td>\n",
       "      <td>Discrete(4)</td>\n",
       "      <td>(0, 1)</td>\n",
       "      <td>200</td>\n",
       "    </tr>\n",
       "    <tr>\n",
       "      <th>CliffWalking-v0</th>\n",
       "      <td>Discrete(48)</td>\n",
       "      <td>Discrete(4)</td>\n",
       "      <td>(-inf, inf)</td>\n",
       "      <td>None</td>\n",
       "    </tr>\n",
       "    <tr>\n",
       "      <th>NChain-v0</th>\n",
       "      <td>Discrete(5)</td>\n",
       "      <td>Discrete(2)</td>\n",
       "      <td>(-inf, inf)</td>\n",
       "      <td>1000</td>\n",
       "    </tr>\n",
       "    <tr>\n",
       "      <th>Roulette-v0</th>\n",
       "      <td>Discrete(1)</td>\n",
       "      <td>Discrete(38)</td>\n",
       "      <td>(-inf, inf)</td>\n",
       "      <td>100</td>\n",
       "    </tr>\n",
       "    <tr>\n",
       "      <th>Taxi-v2</th>\n",
       "      <td>Discrete(500)</td>\n",
       "      <td>Discrete(6)</td>\n",
       "      <td>(-inf, inf)</td>\n",
       "      <td>200</td>\n",
       "    </tr>\n",
       "    <tr>\n",
       "      <th>GuessingGame-v0</th>\n",
       "      <td>Discrete(4)</td>\n",
       "      <td>Box(1,)</td>\n",
       "      <td>(-inf, inf)</td>\n",
       "      <td>200</td>\n",
       "    </tr>\n",
       "    <tr>\n",
       "      <th>HotterColder-v0</th>\n",
       "      <td>Discrete(4)</td>\n",
       "      <td>Box(1,)</td>\n",
       "      <td>(-inf, inf)</td>\n",
       "      <td>200</td>\n",
       "    </tr>\n",
       "    <tr>\n",
       "      <th>CubeCrash-v0</th>\n",
       "      <td>Box(40, 32, 3)</td>\n",
       "      <td>Discrete(3)</td>\n",
       "      <td>(-inf, inf)</td>\n",
       "      <td>None</td>\n",
       "    </tr>\n",
       "    <tr>\n",
       "      <th>CubeCrashSparse-v0</th>\n",
       "      <td>Box(40, 32, 3)</td>\n",
       "      <td>Discrete(3)</td>\n",
       "      <td>(-inf, inf)</td>\n",
       "      <td>None</td>\n",
       "    </tr>\n",
       "    <tr>\n",
       "      <th>CubeCrashScreenBecomesBlack-v0</th>\n",
       "      <td>Box(40, 32, 3)</td>\n",
       "      <td>Discrete(3)</td>\n",
       "      <td>(-inf, inf)</td>\n",
       "      <td>None</td>\n",
       "    </tr>\n",
       "    <tr>\n",
       "      <th>MemorizeDigits-v0</th>\n",
       "      <td>Box(24, 32, 3)</td>\n",
       "      <td>Discrete(10)</td>\n",
       "      <td>(-inf, inf)</td>\n",
       "      <td>None</td>\n",
       "    </tr>\n",
       "  </tbody>\n",
       "</table>\n",
       "</div>"
      ],
      "text/plain": [
       "                                                                             观测空间  \\\n",
       "Copy-v0                                                               Discrete(6)   \n",
       "RepeatCopy-v0                                                         Discrete(6)   \n",
       "ReversedAddition-v0                                                   Discrete(4)   \n",
       "ReversedAddition3-v0                                                  Discrete(4)   \n",
       "DuplicatedInput-v0                                                    Discrete(6)   \n",
       "Reverse-v0                                                            Discrete(3)   \n",
       "CartPole-v0                                                               Box(4,)   \n",
       "CartPole-v1                                                               Box(4,)   \n",
       "MountainCar-v0                                                            Box(2,)   \n",
       "MountainCarContinuous-v0                                                  Box(2,)   \n",
       "Pendulum-v0                                                               Box(3,)   \n",
       "Acrobot-v1                                                                Box(6,)   \n",
       "Blackjack-v0                            (Discrete(32), Discrete(11), Discrete(2))   \n",
       "KellyCoinflip-v0                                         (Box(1,), Discrete(301))   \n",
       "KellyCoinflipGeneralized-v0     (Box(1,), Discrete(266), Discrete(266), Discre...   \n",
       "FrozenLake-v0                                                        Discrete(16)   \n",
       "FrozenLake8x8-v0                                                     Discrete(64)   \n",
       "CliffWalking-v0                                                      Discrete(48)   \n",
       "NChain-v0                                                             Discrete(5)   \n",
       "Roulette-v0                                                           Discrete(1)   \n",
       "Taxi-v2                                                             Discrete(500)   \n",
       "GuessingGame-v0                                                       Discrete(4)   \n",
       "HotterColder-v0                                                       Discrete(4)   \n",
       "CubeCrash-v0                                                       Box(40, 32, 3)   \n",
       "CubeCrashSparse-v0                                                 Box(40, 32, 3)   \n",
       "CubeCrashScreenBecomesBlack-v0                                     Box(40, 32, 3)   \n",
       "MemorizeDigits-v0                                                  Box(24, 32, 3)   \n",
       "\n",
       "                                                                   动作空间  \\\n",
       "Copy-v0                         (Discrete(2), Discrete(2), Discrete(5))   \n",
       "RepeatCopy-v0                   (Discrete(2), Discrete(2), Discrete(5))   \n",
       "ReversedAddition-v0             (Discrete(4), Discrete(2), Discrete(3))   \n",
       "ReversedAddition3-v0            (Discrete(4), Discrete(2), Discrete(3))   \n",
       "DuplicatedInput-v0              (Discrete(2), Discrete(2), Discrete(5))   \n",
       "Reverse-v0                      (Discrete(2), Discrete(2), Discrete(2))   \n",
       "CartPole-v0                                                 Discrete(2)   \n",
       "CartPole-v1                                                 Discrete(2)   \n",
       "MountainCar-v0                                              Discrete(3)   \n",
       "MountainCarContinuous-v0                                        Box(1,)   \n",
       "Pendulum-v0                                                     Box(1,)   \n",
       "Acrobot-v1                                                  Discrete(3)   \n",
       "Blackjack-v0                                                Discrete(2)   \n",
       "KellyCoinflip-v0                                        Discrete(25000)   \n",
       "KellyCoinflipGeneralized-v0                             Discrete(30200)   \n",
       "FrozenLake-v0                                               Discrete(4)   \n",
       "FrozenLake8x8-v0                                            Discrete(4)   \n",
       "CliffWalking-v0                                             Discrete(4)   \n",
       "NChain-v0                                                   Discrete(2)   \n",
       "Roulette-v0                                                Discrete(38)   \n",
       "Taxi-v2                                                     Discrete(6)   \n",
       "GuessingGame-v0                                                 Box(1,)   \n",
       "HotterColder-v0                                                 Box(1,)   \n",
       "CubeCrash-v0                                                Discrete(3)   \n",
       "CubeCrashSparse-v0                                          Discrete(3)   \n",
       "CubeCrashScreenBecomesBlack-v0                              Discrete(3)   \n",
       "MemorizeDigits-v0                                          Discrete(10)   \n",
       "\n",
       "                                       奖励范围  最大步数  \n",
       "Copy-v0                         (-inf, inf)   200  \n",
       "RepeatCopy-v0                   (-inf, inf)   200  \n",
       "ReversedAddition-v0             (-inf, inf)   200  \n",
       "ReversedAddition3-v0            (-inf, inf)   200  \n",
       "DuplicatedInput-v0              (-inf, inf)   200  \n",
       "Reverse-v0                      (-inf, inf)   200  \n",
       "CartPole-v0                     (-inf, inf)   200  \n",
       "CartPole-v1                     (-inf, inf)   500  \n",
       "MountainCar-v0                  (-inf, inf)   200  \n",
       "MountainCarContinuous-v0        (-inf, inf)   999  \n",
       "Pendulum-v0                     (-inf, inf)   200  \n",
       "Acrobot-v1                      (-inf, inf)   500  \n",
       "Blackjack-v0                    (-inf, inf)  None  \n",
       "KellyCoinflip-v0                 (0, 250.0)  None  \n",
       "KellyCoinflipGeneralized-v0      (0, 302.0)  None  \n",
       "FrozenLake-v0                        (0, 1)   100  \n",
       "FrozenLake8x8-v0                     (0, 1)   200  \n",
       "CliffWalking-v0                 (-inf, inf)  None  \n",
       "NChain-v0                       (-inf, inf)  1000  \n",
       "Roulette-v0                     (-inf, inf)   100  \n",
       "Taxi-v2                         (-inf, inf)   200  \n",
       "GuessingGame-v0                 (-inf, inf)   200  \n",
       "HotterColder-v0                 (-inf, inf)   200  \n",
       "CubeCrash-v0                    (-inf, inf)  None  \n",
       "CubeCrashSparse-v0              (-inf, inf)  None  \n",
       "CubeCrashScreenBecomesBlack-v0  (-inf, inf)  None  \n",
       "MemorizeDigits-v0               (-inf, inf)  None  "
      ]
     },
     "metadata": {},
     "output_type": "display_data"
    }
   ],
   "source": [
    "space_names=['观测空间','动作空间','奖励范围','最大步数']\n",
    "df=pd.DataFrame(columns=space_names)\n",
    "\n",
    "env_specs=gym.envs.registry.all()\n",
    "# print(env_specs)\n",
    "for env_spec in env_specs:\n",
    "    env_id = env_spec.id\n",
    "    try:\n",
    "        env = gym.make(env_id)\n",
    "        observation_space = env.observation_space\n",
    "        action_space = env.action_space\n",
    "        reward_range = env.reward_range\n",
    "        max_episode_steps = None\n",
    "        if isinstance(env, gym.wrappers.time_limit.TimeLimit):\n",
    "            max_episode_steps = env._max_episode_steps\n",
    "        df.loc[env_id] = [observation_space, action_space, reward_range, max_episode_steps]\n",
    "    except:\n",
    "        pass\n",
    "\n",
    "with pd.option_context('display.max_rows',None):\n",
    "    display(df)"
   ]
  },
  {
   "cell_type": "code",
   "execution_count": 9,
   "metadata": {},
   "outputs": [
    {
     "name": "stdout",
     "output_type": "stream",
     "text": [
      "观测空间=Box(2,)\n",
      "动作范围=Discrete(3)\n",
      "观测范围=[-1.2  -0.07]~[0.6  0.07]\n",
      "动作数=3\n"
     ]
    }
   ],
   "source": [
    "env=gym.make('MountainCar-v0')\n",
    "print('观测空间={}'.format(env.observation_space))\n",
    "print('动作范围={}'.format(env.action_space))\n",
    "print('观测范围={}~{}'.format(env.observation_space.low,env.observation_space.high))\n",
    "print('动作数={}'.format(env.action_space.n))"
   ]
  },
  {
   "cell_type": "code",
   "execution_count": 10,
   "metadata": {},
   "outputs": [],
   "source": [
    "class BespokeAgent:\n",
    "    def __init__(self,env):\n",
    "        pass\n",
    "    def decide(self,observation):\n",
    "        position,velocity=observation\n",
    "        lb = min(-0.09 * (position + 0.25) ** 2 + 0.03,0.3 * (position + 0.9) ** 4 - 0.008)\n",
    "        ub = -0.07 * (position + 0.38) ** 2 + 0.07\n",
    "        if lb<velocity<ub:\n",
    "            action=2\n",
    "        else:\n",
    "            action=0\n",
    "        return action\n",
    "    def learn(self,*args):\n",
    "        pass\n",
    "    \n",
    "agent=BespokeAgent(env)"
   ]
  },
  {
   "cell_type": "code",
   "execution_count": 17,
   "metadata": {},
   "outputs": [],
   "source": [
    "def play_montecarlo(env,agent,render=False,train=False):\n",
    "    episode_reward=0\n",
    "    observation=env.reset()\n",
    "    while True:\n",
    "        if render:\n",
    "            env.render()\n",
    "        action=agent.decide(observation)\n",
    "        next_observation,reward,done,_=env.step(action)\n",
    "        episode_reward+=reward\n",
    "        if train:\n",
    "            agent.learn(observation,action,reward,done)\n",
    "        if done:\n",
    "            break\n",
    "        observation=next_observation\n",
    "    return episode_reward"
   ]
  },
  {
   "cell_type": "code",
   "execution_count": 20,
   "metadata": {},
   "outputs": [
    {
     "name": "stdout",
     "output_type": "stream",
     "text": [
      "回合奖励=-105.0\n"
     ]
    }
   ],
   "source": [
    "env.seed(0)\n",
    "episode_reward=play_montecarlo(env,agent,render=True)\n",
    "print('回合奖励={}'.format(episode_reward))\n",
    "env.close()"
   ]
  },
  {
   "cell_type": "code",
   "execution_count": 24,
   "metadata": {},
   "outputs": [
    {
     "name": "stdout",
     "output_type": "stream",
     "text": [
      "回合奖励: -119.0\n",
      "第0回合完成\n",
      "回合奖励: -135.0\n",
      "第1回合完成\n",
      "回合奖励: -103.0\n",
      "第2回合完成\n",
      "回合奖励: -104.0\n",
      "第3回合完成\n",
      "回合奖励: -105.0\n",
      "第4回合完成\n",
      "回合奖励: -162.0\n",
      "第5回合完成\n",
      "回合奖励: -85.0\n",
      "第6回合完成\n",
      "回合奖励: -104.0\n",
      "第7回合完成\n",
      "回合奖励: -105.0\n",
      "第8回合完成\n",
      "回合奖励: -105.0\n",
      "第9回合完成\n"
     ]
    }
   ],
   "source": [
    "# episode_rewards = [play_montecarlo(env, agent,render=True) for _ in range(100)]\n",
    "# print('平均回合奖励 = {}'.format(np.mean(episode_rewards)))\n",
    "# env=gym.make('CartPole-v0')\n",
    "env=gym.make('MountainCar-v0')\n",
    "for i in range(10):\n",
    "    episode_reward=play_montecarlo(env,agent,render=True)\n",
    "    print('回合奖励:',episode_reward)\n",
    "    print('第{}回合完成'.format(i))"
   ]
  },
  {
   "cell_type": "markdown",
   "metadata": {},
   "source": [
    "### Markov决策过程"
   ]
  },
  {
   "cell_type": "code",
   "execution_count": 25,
   "metadata": {},
   "outputs": [],
   "source": [
    "import numpy as np\n",
    "np.random.seed(0)\n",
    "import scipy\n",
    "import gym"
   ]
  },
  {
   "cell_type": "code",
   "execution_count": 30,
   "metadata": {},
   "outputs": [
    {
     "name": "stdout",
     "output_type": "stream",
     "text": [
      "观测空间=Discrete(48)\n",
      "动作空间=Discrete(4)\n",
      "状态数量=48，动作数量=4\n",
      "地图大小=(4, 12)\n"
     ]
    }
   ],
   "source": [
    "env=gym.make('CliffWalking-v0')\n",
    "env.seed(0)\n",
    "print('观测空间={}'.format(env.observation_space))\n",
    "print('动作空间={}'.format(env.action_space))\n",
    "print('状态数量={}，动作数量={}'.format(env.nS,env.nA))\n",
    "print('地图大小={}'.format(env.shape))"
   ]
  },
  {
   "cell_type": "code",
   "execution_count": 37,
   "metadata": {},
   "outputs": [],
   "source": [
    "def play_once(env,policy):\n",
    "    total_reward=0\n",
    "    state=env.reset()\n",
    "    loc=np.unravel_index(state,env.shape)\n",
    "    print('状态={}，位置={}'.format(state,loc))\n",
    "    while True:\n",
    "        action=np.random.choice(env.nA,p=policy[state])\n",
    "        next_state,reward,done,_=env.step(action)\n",
    "        print('状态={}，位置={}，奖励={}'.format(state,loc,reward))\n",
    "        total_reward+=reward\n",
    "        if done:\n",
    "            break\n",
    "        state=next_state\n",
    "    return total_reward"
   ]
  },
  {
   "cell_type": "code",
   "execution_count": 47,
   "metadata": {},
   "outputs": [
    {
     "name": "stdout",
     "output_type": "stream",
     "text": [
      "(48, 4)\n"
     ]
    }
   ],
   "source": [
    "actions=np.ones(env.shape,dtype=int)\n",
    "actions[-1,:]=0\n",
    "actions[:,-1]=2\n",
    "optimal_policy=np.eye(4)[actions.reshape(-1)]\n",
    "print(optimal_policy.shape)"
   ]
  },
  {
   "cell_type": "code",
   "execution_count": 40,
   "metadata": {},
   "outputs": [
    {
     "name": "stdout",
     "output_type": "stream",
     "text": [
      "状态=36，位置=(3, 0)\n",
      "状态=36，位置=(3, 0)，奖励=-1\n",
      "状态=24，位置=(3, 0)，奖励=-1\n",
      "状态=25，位置=(3, 0)，奖励=-1\n",
      "状态=26，位置=(3, 0)，奖励=-1\n",
      "状态=27，位置=(3, 0)，奖励=-1\n",
      "状态=28，位置=(3, 0)，奖励=-1\n",
      "状态=29，位置=(3, 0)，奖励=-1\n",
      "状态=30，位置=(3, 0)，奖励=-1\n",
      "状态=31，位置=(3, 0)，奖励=-1\n",
      "状态=32，位置=(3, 0)，奖励=-1\n",
      "状态=33，位置=(3, 0)，奖励=-1\n",
      "状态=34，位置=(3, 0)，奖励=-1\n",
      "状态=35，位置=(3, 0)，奖励=-1\n",
      "回合奖励=-13\n"
     ]
    }
   ],
   "source": [
    "total_reward=play_once(env,optimal_policy)\n",
    "print('回合奖励={}'.format(total_reward))"
   ]
  },
  {
   "cell_type": "code",
   "execution_count": 52,
   "metadata": {},
   "outputs": [],
   "source": [
    "def evaluate_bellman(env,policy,gamma=1.):\n",
    "    a,b=np.eye(env.nS),np.zeros((env.nS))\n",
    "    for state in range(env.nS-1):\n",
    "        for action in range(env.nA):\n",
    "            pi=policy[state][action]\n",
    "            for p,next_state,reward,done in env.P[state][action]:\n",
    "                a[state,next_state]-=(pi*gamma)\n",
    "                b[state]+=(pi*reward*p)\n",
    "    v=np.linalg.solve(a,b)\n",
    "    q=np.zeros((env.nS,env.nA))\n",
    "    for state in range(env.nS-1):\n",
    "        for action in range(env.nA):\n",
    "            for p,next_state,reward,done in env.P[state][action]:\n",
    "                q[state][action]+=(reward+gamma*v[next_state])*p\n",
    "    return v,q"
   ]
  },
  {
   "cell_type": "code",
   "execution_count": 55,
   "metadata": {},
   "outputs": [
    {
     "name": "stdout",
     "output_type": "stream",
     "text": [
      "状态价值=[-439258.92022552 -439205.04983834 -438854.72370367 -438300.96239801\n",
      " -437484.94983967 -436637.06968971 -430134.21021581 -418750.91788927\n",
      " -409425.14021916 -394032.40138462 -368779.65604086 -356449.28878302\n",
      " -439258.48885126 -439189.40862099 -438700.14704092 -438241.47581122\n",
      " -437799.80236697 -436512.90306693 -433205.02759955 -423481.09984468\n",
      " -411568.40818854 -404697.93115442 -367829.4280029  -294059.01953124\n",
      " -439312.29934549 -439301.57082081 -439044.36234822 -438459.64161124\n",
      " -438459.87605349 -437771.31181438 -436934.94437234 -434798.87730719\n",
      " -429407.0441337  -423469.51182897 -358874.48026513 -124738.02430387\n",
      " -439408.46475351 -439481.98025352 -439415.52475053 -439152.96790044\n",
      " -439339.20031041 -439415.35442743 -438770.88036401 -437336.22431838\n",
      " -437327.04574522 -433587.73746858 -307831.05001827       0.        ]\n",
      "动作价值=[[-4.39259920e+05 -4.39206050e+05 -4.39259489e+05 -4.39259920e+05]\n",
      " [-4.39206050e+05 -4.38855724e+05 -4.39190409e+05 -4.39259920e+05]\n",
      " [-4.38855724e+05 -4.38301962e+05 -4.38701147e+05 -4.39206050e+05]\n",
      " [-4.38301962e+05 -4.37485950e+05 -4.38242476e+05 -4.38855724e+05]\n",
      " [-4.37485950e+05 -4.36638070e+05 -4.37800802e+05 -4.38301962e+05]\n",
      " [-4.36638070e+05 -4.30135210e+05 -4.36513903e+05 -4.37485950e+05]\n",
      " [-4.30135210e+05 -4.18751918e+05 -4.33206028e+05 -4.36638070e+05]\n",
      " [-4.18751918e+05 -4.09426140e+05 -4.23482100e+05 -4.30135210e+05]\n",
      " [-4.09426140e+05 -3.94033401e+05 -4.11569408e+05 -4.18751918e+05]\n",
      " [-3.94033401e+05 -3.68780656e+05 -4.04698931e+05 -4.09426140e+05]\n",
      " [-3.68780656e+05 -3.56450289e+05 -3.67830428e+05 -3.94033401e+05]\n",
      " [-3.56450289e+05 -3.56450289e+05 -2.94060020e+05 -3.68780656e+05]\n",
      " [-4.39259920e+05 -4.39190409e+05 -4.39313299e+05 -4.39259489e+05]\n",
      " [-4.39206050e+05 -4.38701147e+05 -4.39302571e+05 -4.39259489e+05]\n",
      " [-4.38855724e+05 -4.38242476e+05 -4.39045362e+05 -4.39190409e+05]\n",
      " [-4.38301962e+05 -4.37800802e+05 -4.38460642e+05 -4.38701147e+05]\n",
      " [-4.37485950e+05 -4.36513903e+05 -4.38460876e+05 -4.38242476e+05]\n",
      " [-4.36638070e+05 -4.33206028e+05 -4.37772312e+05 -4.37800802e+05]\n",
      " [-4.30135210e+05 -4.23482100e+05 -4.36935944e+05 -4.36513903e+05]\n",
      " [-4.18751918e+05 -4.11569408e+05 -4.34799877e+05 -4.33206028e+05]\n",
      " [-4.09426140e+05 -4.04698931e+05 -4.29408044e+05 -4.23482100e+05]\n",
      " [-3.94033401e+05 -3.67830428e+05 -4.23470512e+05 -4.11569408e+05]\n",
      " [-3.68780656e+05 -2.94060020e+05 -3.58875480e+05 -4.04698931e+05]\n",
      " [-3.56450289e+05 -2.94060020e+05 -1.24739024e+05 -3.67830428e+05]\n",
      " [-4.39259489e+05 -4.39302571e+05 -4.39409465e+05 -4.39313299e+05]\n",
      " [-4.39190409e+05 -4.39045362e+05 -4.39508465e+05 -4.39313299e+05]\n",
      " [-4.38701147e+05 -4.38460642e+05 -4.39508465e+05 -4.39302571e+05]\n",
      " [-4.38242476e+05 -4.38460876e+05 -4.39508465e+05 -4.39045362e+05]\n",
      " [-4.37800802e+05 -4.37772312e+05 -4.39508465e+05 -4.38460642e+05]\n",
      " [-4.36513903e+05 -4.36935944e+05 -4.39508465e+05 -4.38460876e+05]\n",
      " [-4.33206028e+05 -4.34799877e+05 -4.39508465e+05 -4.37772312e+05]\n",
      " [-4.23482100e+05 -4.29408044e+05 -4.39508465e+05 -4.36935944e+05]\n",
      " [-4.11569408e+05 -4.23470512e+05 -4.39508465e+05 -4.34799877e+05]\n",
      " [-4.04698931e+05 -3.58875480e+05 -4.39508465e+05 -4.29408044e+05]\n",
      " [-3.67830428e+05 -1.24739024e+05 -4.39508465e+05 -4.23470512e+05]\n",
      " [-2.94060020e+05 -1.24739024e+05 -1.00000000e+00 -3.58875480e+05]\n",
      " [-4.39313299e+05 -4.39508465e+05 -4.39409465e+05 -4.39409465e+05]\n",
      " [-4.39302571e+05 -4.39508465e+05 -4.39508465e+05 -4.39409465e+05]\n",
      " [-4.39045362e+05 -4.39508465e+05 -4.39508465e+05 -4.39508465e+05]\n",
      " [-4.38460642e+05 -4.39508465e+05 -4.39508465e+05 -4.39508465e+05]\n",
      " [-4.38460876e+05 -4.39508465e+05 -4.39508465e+05 -4.39508465e+05]\n",
      " [-4.37772312e+05 -4.39508465e+05 -4.39508465e+05 -4.39508465e+05]\n",
      " [-4.36935944e+05 -4.39508465e+05 -4.39508465e+05 -4.39508465e+05]\n",
      " [-4.34799877e+05 -4.39508465e+05 -4.39508465e+05 -4.39508465e+05]\n",
      " [-4.29408044e+05 -4.39508465e+05 -4.39508465e+05 -4.39508465e+05]\n",
      " [-4.23470512e+05 -4.39508465e+05 -4.39508465e+05 -4.39508465e+05]\n",
      " [-3.58875480e+05 -1.00000000e+00 -4.39508465e+05 -4.39508465e+05]\n",
      " [ 0.00000000e+00  0.00000000e+00  0.00000000e+00  0.00000000e+00]]\n"
     ]
    }
   ],
   "source": [
    "policy=np.random.uniform(size=(env.nS,env.nA))\n",
    "policy=policy/np.sum(policy,axis=1)[:,np.newaxis]\n",
    "\n",
    "state_values,action_values=evaluate_bellman(env,policy)\n",
    "print('状态价值={}'.format(state_values))\n",
    "print('动作价值={}'.format(action_values))"
   ]
  },
  {
   "cell_type": "code",
   "execution_count": 56,
   "metadata": {},
   "outputs": [
    {
     "name": "stdout",
     "output_type": "stream",
     "text": [
      "最优状态价值 = [-14. -13. -12. -11. -10.  -9.  -8.  -7.  -6.  -5.  -4.  -3. -13. -12.\n",
      " -11. -10.  -9.  -8.  -7.  -6.  -5.  -4.  -3.  -2. -12. -11. -10.  -9.\n",
      "  -8.  -7.  -6.  -5.  -4.  -3.  -2.  -1. -13. -12. -11. -10.  -9.  -8.\n",
      "  -7.  -6.  -5.  -4.  -3.   0.]\n",
      "最优动作价值 = [[ -15.  -14.  -14.  -15.]\n",
      " [ -14.  -13.  -13.  -15.]\n",
      " [ -13.  -12.  -12.  -14.]\n",
      " [ -12.  -11.  -11.  -13.]\n",
      " [ -11.  -10.  -10.  -12.]\n",
      " [ -10.   -9.   -9.  -11.]\n",
      " [  -9.   -8.   -8.  -10.]\n",
      " [  -8.   -7.   -7.   -9.]\n",
      " [  -7.   -6.   -6.   -8.]\n",
      " [  -6.   -5.   -5.   -7.]\n",
      " [  -5.   -4.   -4.   -6.]\n",
      " [  -4.   -4.   -3.   -5.]\n",
      " [ -15.  -13.  -13.  -14.]\n",
      " [ -14.  -12.  -12.  -14.]\n",
      " [ -13.  -11.  -11.  -13.]\n",
      " [ -12.  -10.  -10.  -12.]\n",
      " [ -11.   -9.   -9.  -11.]\n",
      " [ -10.   -8.   -8.  -10.]\n",
      " [  -9.   -7.   -7.   -9.]\n",
      " [  -8.   -6.   -6.   -8.]\n",
      " [  -7.   -5.   -5.   -7.]\n",
      " [  -6.   -4.   -4.   -6.]\n",
      " [  -5.   -3.   -3.   -5.]\n",
      " [  -4.   -3.   -2.   -4.]\n",
      " [ -14.  -12.  -14.  -13.]\n",
      " [ -13.  -11. -113.  -13.]\n",
      " [ -12.  -10. -113.  -12.]\n",
      " [ -11.   -9. -113.  -11.]\n",
      " [ -10.   -8. -113.  -10.]\n",
      " [  -9.   -7. -113.   -9.]\n",
      " [  -8.   -6. -113.   -8.]\n",
      " [  -7.   -5. -113.   -7.]\n",
      " [  -6.   -4. -113.   -6.]\n",
      " [  -5.   -3. -113.   -5.]\n",
      " [  -4.   -2. -113.   -4.]\n",
      " [  -3.   -2.   -1.   -3.]\n",
      " [ -13. -113.  -14.  -14.]\n",
      " [ -12. -113. -113.  -14.]\n",
      " [ -11. -113. -113. -113.]\n",
      " [ -10. -113. -113. -113.]\n",
      " [  -9. -113. -113. -113.]\n",
      " [  -8. -113. -113. -113.]\n",
      " [  -7. -113. -113. -113.]\n",
      " [  -6. -113. -113. -113.]\n",
      " [  -5. -113. -113. -113.]\n",
      " [  -4. -113. -113. -113.]\n",
      " [  -3.   -1. -113. -113.]\n",
      " [   0.    0.    0.    0.]]\n"
     ]
    }
   ],
   "source": [
    "optimal_state_values, optimal_action_values = evaluate_bellman(env, optimal_policy)\n",
    "print('最优状态价值 = {}'.format(optimal_state_values))\n",
    "print('最优动作价值 = {}'.format(optimal_action_values))"
   ]
  },
  {
   "cell_type": "code",
   "execution_count": 57,
   "metadata": {},
   "outputs": [],
   "source": [
    "def optimal_bellman(env,gamma=1):\n",
    "    p=np.zeros((env.nS,env.nA,env.nS))\n",
    "    r=np.zeros((env.nS,env.nA))\n",
    "    for state in range(env.nS-1):\n",
    "        for action in range(env.nA):\n",
    "            for prob,next_state,reward,done in env.P[state][action]:\n",
    "                p[state,action,next_state]+=prob\n",
    "                r[state,action]+=reward*prob\n",
    "    c=np.ones(env.nS)\n",
    "    a_ub=gamma*p.reshape(-1,env.nS)-np.repeat(np.eye(env.nS),env.nA,axis=0)\n",
    "    b_ub=-r.reshape(-1)\n",
    "    a_eq=np.zeros((0,env.nS))\n",
    "    b_eq=np.zeros(0)\n",
    "    bounds=[(None,None),]*env.nS\n",
    "    res=scipy.optimize.linprog(c,a_ub,b_ub,bounds=bounds,method='interior-point')\n",
    "    v=res.x\n",
    "    q=r+gamma*np.dot(p,v)\n",
    "    return v,q"
   ]
  },
  {
   "cell_type": "code",
   "execution_count": 58,
   "metadata": {},
   "outputs": [
    {
     "name": "stdout",
     "output_type": "stream",
     "text": [
      "最优状态价值 = [-1.40000000e+01 -1.30000000e+01 -1.20000000e+01 -1.10000000e+01\n",
      " -1.00000000e+01 -9.00000000e+00 -8.00000000e+00 -7.00000000e+00\n",
      " -6.00000000e+00 -5.00000000e+00 -4.00000000e+00 -3.00000000e+00\n",
      " -1.30000000e+01 -1.20000000e+01 -1.10000000e+01 -1.00000000e+01\n",
      " -9.00000000e+00 -8.00000000e+00 -7.00000000e+00 -6.00000000e+00\n",
      " -5.00000000e+00 -4.00000000e+00 -3.00000000e+00 -2.00000000e+00\n",
      " -1.20000000e+01 -1.10000000e+01 -1.00000000e+01 -9.00000000e+00\n",
      " -8.00000000e+00 -7.00000000e+00 -6.00000000e+00 -5.00000000e+00\n",
      " -4.00000000e+00 -3.00000000e+00 -2.00000000e+00 -1.00000000e+00\n",
      " -1.30000000e+01 -1.20000000e+01 -1.10000000e+01 -1.00000000e+01\n",
      " -9.00000000e+00 -8.00000000e+00 -7.00000000e+00 -6.00000000e+00\n",
      " -5.00000000e+00 -4.00000000e+00 -9.99999999e-01  1.82211617e-11]\n",
      "最优动作价值 = [[ -14.99999999  -13.99999999  -13.99999999  -14.99999999]\n",
      " [ -13.99999999  -13.          -13.          -14.99999999]\n",
      " [ -13.          -12.          -12.          -13.99999999]\n",
      " [ -12.          -11.          -11.          -13.        ]\n",
      " [ -11.          -10.          -10.          -12.        ]\n",
      " [ -10.           -9.           -9.          -11.        ]\n",
      " [  -9.           -8.           -8.          -10.        ]\n",
      " [  -8.           -7.           -7.           -9.        ]\n",
      " [  -7.           -6.           -6.           -8.        ]\n",
      " [  -6.           -5.           -5.           -7.        ]\n",
      " [  -5.           -4.           -4.           -6.        ]\n",
      " [  -4.           -4.           -3.           -5.        ]\n",
      " [ -14.99999999  -13.          -13.          -13.99999999]\n",
      " [ -13.99999999  -12.          -12.          -13.99999999]\n",
      " [ -13.          -11.          -11.          -13.        ]\n",
      " [ -12.          -10.          -10.          -12.        ]\n",
      " [ -11.           -9.           -9.          -11.        ]\n",
      " [ -10.           -8.           -8.          -10.        ]\n",
      " [  -9.           -7.           -7.           -9.        ]\n",
      " [  -8.           -6.           -6.           -8.        ]\n",
      " [  -7.           -5.           -5.           -7.        ]\n",
      " [  -6.           -4.           -4.           -6.        ]\n",
      " [  -5.           -3.           -3.           -5.        ]\n",
      " [  -4.           -3.           -2.           -4.        ]\n",
      " [ -13.99999999  -12.          -14.          -13.        ]\n",
      " [ -13.          -11.         -113.          -13.        ]\n",
      " [ -12.          -10.         -113.          -12.        ]\n",
      " [ -11.           -9.         -113.          -11.        ]\n",
      " [ -10.           -8.         -113.          -10.        ]\n",
      " [  -9.           -7.         -113.           -9.        ]\n",
      " [  -8.           -6.         -113.           -8.        ]\n",
      " [  -7.           -5.         -113.           -7.        ]\n",
      " [  -6.           -4.         -113.           -6.        ]\n",
      " [  -5.           -3.         -113.           -5.        ]\n",
      " [  -4.           -2.         -113.           -4.        ]\n",
      " [  -3.           -2.           -1.           -3.        ]\n",
      " [ -13.         -113.          -14.          -14.        ]\n",
      " [ -12.         -113.         -113.          -14.        ]\n",
      " [ -11.         -113.         -113.         -113.        ]\n",
      " [ -10.         -113.         -113.         -113.        ]\n",
      " [  -9.         -113.         -113.         -113.        ]\n",
      " [  -8.         -113.         -113.         -113.        ]\n",
      " [  -7.         -113.         -113.         -113.        ]\n",
      " [  -6.         -113.         -113.         -113.        ]\n",
      " [  -5.         -113.         -113.         -113.        ]\n",
      " [  -4.         -113.         -113.         -113.        ]\n",
      " [  -3.           -1.         -113.         -113.        ]\n",
      " [   0.            0.            0.            0.        ]]\n"
     ]
    }
   ],
   "source": [
    "optimal_state_values, optimal_action_values = optimal_bellman(env)\n",
    "print('最优状态价值 = {}'.format(optimal_state_values))\n",
    "print('最优动作价值 = {}'.format(optimal_action_values))"
   ]
  },
  {
   "cell_type": "markdown",
   "metadata": {},
   "source": [
    "### 有模型数值迭代"
   ]
  },
  {
   "cell_type": "code",
   "execution_count": 60,
   "metadata": {},
   "outputs": [],
   "source": [
    "import numpy as np\n",
    "np.random.seed(0)\n",
    "import gym"
   ]
  },
  {
   "cell_type": "code",
   "execution_count": 63,
   "metadata": {},
   "outputs": [
    {
     "name": "stdout",
     "output_type": "stream",
     "text": [
      "观察空间=Discrete(16)\n",
      "动作空间=Discrete(4)\n",
      "观测空间大小=16\n",
      "动作空间大小=4\n"
     ]
    },
    {
     "data": {
      "text/plain": [
       "[(0.3333333333333333, 14, 0.0, False),\n",
       " (0.3333333333333333, 15, 1.0, True),\n",
       " (0.3333333333333333, 10, 0.0, False)]"
      ]
     },
     "execution_count": 63,
     "metadata": {},
     "output_type": "execute_result"
    }
   ],
   "source": [
    "env=gym.make('FrozenLake-v0')\n",
    "env.seed(0)\n",
    "print('观察空间={}'.format(env.observation_space))\n",
    "print('动作空间={}'.format(env.action_space))\n",
    "print('观测空间大小={}'.format(env.unwrapped.nS))\n",
    "print('动作空间大小={}'.format(env.unwrapped.nA))\n",
    "env.unwrapped.P[14][2]"
   ]
  },
  {
   "cell_type": "code",
   "execution_count": 73,
   "metadata": {},
   "outputs": [],
   "source": [
    "def play_policy(env,policy,render=False):\n",
    "    total_reward=0\n",
    "    observation=env.reset()\n",
    "#     print(observation)\n",
    "    while True:\n",
    "        if render:\n",
    "            env.render()\n",
    "        action=np.random.choice(env.action_space.n,p=policy[observation])\n",
    "        observation,reward,done,_=env.step(action)\n",
    "#         while True:\n",
    "#             print(observation)\n",
    "#             break\n",
    "        total_reward+=reward\n",
    "        if done:\n",
    "            break\n",
    "    return total_reward"
   ]
  },
  {
   "cell_type": "code",
   "execution_count": 74,
   "metadata": {
    "scrolled": false
   },
   "outputs": [
    {
     "name": "stdout",
     "output_type": "stream",
     "text": [
      "奖励=0.0\n",
      "奖励=0.0\n",
      "奖励=0.0\n",
      "奖励=0.0\n",
      "奖励=0.0\n",
      "奖励=1.0\n",
      "奖励=0.0\n",
      "奖励=0.0\n",
      "奖励=0.0\n",
      "奖励=0.0\n"
     ]
    }
   ],
   "source": [
    "random_policy=np.ones((env.unwrapped.nS,env.unwrapped.nA))/env.unwrapped.nA\n",
    "\n",
    "for _ in range(10):\n",
    "    episode_reward=play_policy(env,random_policy)\n",
    "    print('奖励={}'.format(episode_reward))"
   ]
  },
  {
   "cell_type": "code",
   "execution_count": 79,
   "metadata": {},
   "outputs": [],
   "source": [
    "def v2q(env,v,s=None,gamma=1):\n",
    "    if s is not None:\n",
    "        q=np.zeros(env.unwrapped.nA)\n",
    "        for a in range(env.unwrapped.nA):\n",
    "            for prob,next_state,reward,done in env.unwrapped.P[s][a]:\n",
    "                q[a]+=prob*(reward+gamma*v[next_state]*(1.-done))\n",
    "    else:\n",
    "        q=np.zeros((env.unwrapped.nS,env.unwrapped.nA))\n",
    "        for s in range(env.unwrapped.nS):\n",
    "            q[s]=v2q(env,v,s,gamma)\n",
    "    return q\n",
    "\n",
    "def evaluate_policy(env,policy,gamma=1,tolerant=1e-6):\n",
    "    v=np.zeros(env.unwrapped.nS)\n",
    "    while True:\n",
    "        delta=0\n",
    "        for s in range(env.unwrapped.nS):\n",
    "            vs=sum(policy[s]*v2q(env,v,s,gamma))\n",
    "            delta=max(delta,abs(v[s]-vs))\n",
    "            v[s]=vs\n",
    "        if delta<tolerant:\n",
    "            break\n",
    "    return v"
   ]
  },
  {
   "cell_type": "code",
   "execution_count": 81,
   "metadata": {},
   "outputs": [
    {
     "name": "stdout",
     "output_type": "stream",
     "text": [
      "状态价值函数：\n",
      "[[0.0139372  0.01162942 0.02095187 0.01047569]\n",
      " [0.01624741 0.         0.04075119 0.        ]\n",
      " [0.03480561 0.08816967 0.14205297 0.        ]\n",
      " [0.         0.17582021 0.43929104 0.        ]]\n",
      "动作价值函数：\n",
      "[[0.01470727 0.01393801 0.01393801 0.01316794]\n",
      " [0.00852221 0.01162969 0.01086043 0.01550616]\n",
      " [0.02444416 0.0209521  0.02405958 0.01435233]\n",
      " [0.01047585 0.01047585 0.00698379 0.01396775]\n",
      " [0.02166341 0.01701767 0.0162476  0.01006154]\n",
      " [0.         0.         0.         0.        ]\n",
      " [0.05433495 0.04735099 0.05433495 0.00698396]\n",
      " [0.         0.         0.         0.        ]\n",
      " [0.01701767 0.04099176 0.03480569 0.04640756]\n",
      " [0.0702086  0.11755959 0.10595772 0.05895286]\n",
      " [0.18940397 0.17582024 0.16001408 0.04297362]\n",
      " [0.         0.         0.         0.        ]\n",
      " [0.         0.         0.         0.        ]\n",
      " [0.08799662 0.20503708 0.23442697 0.17582024]\n",
      " [0.25238807 0.53837042 0.52711467 0.43929106]\n",
      " [0.         0.         0.         0.        ]]\n"
     ]
    }
   ],
   "source": [
    "print('状态价值函数：')\n",
    "v_random=evaluate_policy(env,random_policy)\n",
    "print(v_random.reshape(4,4))\n",
    "print('动作价值函数：')\n",
    "q_random=v2q(env,v_random)\n",
    "print(q_random)"
   ]
  },
  {
   "cell_type": "code",
   "execution_count": 82,
   "metadata": {},
   "outputs": [],
   "source": [
    "def improve_policy(env,v,policy,gamma=1):\n",
    "    optimal=True\n",
    "    for s in range(env.unwrapped.nS):\n",
    "        q=v2q(env,v,s,gamma)\n",
    "        a=np.argmax(q)\n",
    "        if policy[s][a]!=1:\n",
    "            optimal=0.\n",
    "            policy[s]=0.\n",
    "            policy[s][a]=1.\n",
    "    return optimal"
   ]
  },
  {
   "cell_type": "code",
   "execution_count": 84,
   "metadata": {},
   "outputs": [
    {
     "name": "stdout",
     "output_type": "stream",
     "text": [
      "有更新，更新后的策略为：\n",
      "[[1. 0. 0. 0.]\n",
      " [0. 0. 0. 1.]\n",
      " [1. 0. 0. 0.]\n",
      " [0. 0. 0. 1.]\n",
      " [1. 0. 0. 0.]\n",
      " [1. 0. 0. 0.]\n",
      " [1. 0. 0. 0.]\n",
      " [1. 0. 0. 0.]\n",
      " [0. 0. 0. 1.]\n",
      " [0. 1. 0. 0.]\n",
      " [1. 0. 0. 0.]\n",
      " [1. 0. 0. 0.]\n",
      " [1. 0. 0. 0.]\n",
      " [0. 0. 1. 0.]\n",
      " [0. 1. 0. 0.]\n",
      " [1. 0. 0. 0.]]\n"
     ]
    }
   ],
   "source": [
    "policy=random_policy.copy()\n",
    "optimal=improve_policy(env,v_random,policy)\n",
    "if optimal:\n",
    "    print('无更新，最优策略：')\n",
    "else:\n",
    "    print('有更新，更新后的策略为：')\n",
    "print(policy)"
   ]
  },
  {
   "cell_type": "code",
   "execution_count": 85,
   "metadata": {},
   "outputs": [
    {
     "name": "stdout",
     "output_type": "stream",
     "text": [
      "状态价值函数：\n",
      "[[0.82351246 0.82350689 0.82350303 0.82350106]\n",
      " [0.82351416 0.         0.5294002  0.        ]\n",
      " [0.82351683 0.82352026 0.76469786 0.        ]\n",
      " [0.         0.88234658 0.94117323 0.        ]]\n",
      "最优策略：\n",
      "[[0 3 0 3]\n",
      " [0 0 0 0]\n",
      " [3 1 0 0]\n",
      " [0 2 1 0]]\n"
     ]
    }
   ],
   "source": [
    "def iterate_policy(env,gamma=1,tolerant=1e-6):\n",
    "    policy=np.ones((env.unwrapped.nS,env.unwrapped.nA))/env.unwrapped.nA\n",
    "    while True:\n",
    "        v=evaluate_policy(env,policy,gamma,tolerant)\n",
    "        if improve_policy(env,v,policy):\n",
    "            break\n",
    "    return policy,v\n",
    "\n",
    "\n",
    "policy_pi,v_pi=iterate_policy(env)\n",
    "print('状态价值函数：')\n",
    "print(v_pi.reshape(4,4))\n",
    "print('最优策略：')\n",
    "print(np.argmax(policy,axis=1).reshape(4,4))"
   ]
  },
  {
   "cell_type": "code",
   "execution_count": 86,
   "metadata": {},
   "outputs": [
    {
     "name": "stdout",
     "output_type": "stream",
     "text": [
      "策略迭代 平均奖励：0.77\n"
     ]
    }
   ],
   "source": [
    "epsiode_rewards=[play_policy(env,policy_pi) for _ in range(100)]\n",
    "print('策略迭代 平均奖励：{}'.format(np.mean(epsiode_rewards)))"
   ]
  },
  {
   "cell_type": "code",
   "execution_count": 87,
   "metadata": {},
   "outputs": [
    {
     "name": "stdout",
     "output_type": "stream",
     "text": [
      "状态价值函数=\n",
      "[[0.82351232 0.82350671 0.82350281 0.82350083]\n",
      " [0.82351404 0.         0.52940011 0.        ]\n",
      " [0.82351673 0.82352018 0.76469779 0.        ]\n",
      " [0.         0.88234653 0.94117321 0.        ]]\n",
      "最优策略=\n",
      "[[0 3 3 3]\n",
      " [0 0 0 0]\n",
      " [3 1 0 0]\n",
      " [0 2 1 0]]\n"
     ]
    }
   ],
   "source": [
    "def iterate_value(env,gamma=1,tolerant=1e-6):\n",
    "    v=np.zeros(env.unwrapped.nS)\n",
    "    while True:\n",
    "        delta=0\n",
    "        for s in range(env.unwrapped.nS):\n",
    "            vmax=max(v2q(env,v,s,gamma))\n",
    "            delta=max(delta,abs(v[s]-vmax))\n",
    "            v[s]=vmax\n",
    "        if delta<tolerant:\n",
    "            break\n",
    "    policy=np.zeros((env.unwrapped.nS,env.unwrapped.nA))\n",
    "    for s in range(env.unwrapped.nS):\n",
    "        a=np.argmax(v2q(env,v,s,gamma))\n",
    "        policy[s][a]=1.\n",
    "    return policy,v\n",
    "\n",
    "policy_vi,v_vi=iterate_value(env)\n",
    "print('状态价值函数=')\n",
    "print(v_vi.reshape(4,4))\n",
    "print('最优策略=')\n",
    "print(np.argmax(policy_vi,axis=1).reshape(4,4))"
   ]
  },
  {
   "cell_type": "code",
   "execution_count": 88,
   "metadata": {},
   "outputs": [
    {
     "name": "stdout",
     "output_type": "stream",
     "text": [
      "价值迭代 平均奖励：0.67\n"
     ]
    }
   ],
   "source": [
    "episode_rewards = [play_policy(env, policy_vi)  for _ in range(100)]\n",
    "print(\"价值迭代 平均奖励：{}\".format(np.mean(episode_rewards)))"
   ]
  },
  {
   "cell_type": "markdown",
   "metadata": {},
   "source": [
    "### 回合更新价值迭代"
   ]
  },
  {
   "cell_type": "code",
   "execution_count": 1,
   "metadata": {},
   "outputs": [],
   "source": [
    "import numpy as np\n",
    "np.random.seed(0)\n",
    "import matplotlib.pyplot as plt\n",
    "import gym"
   ]
  },
  {
   "cell_type": "code",
   "execution_count": 2,
   "metadata": {},
   "outputs": [
    {
     "name": "stdout",
     "output_type": "stream",
     "text": [
      "观察空间=Tuple(Discrete(32), Discrete(11), Discrete(2))\n",
      "动作空间=Discrete(2)\n",
      "动作数量=2\n"
     ]
    }
   ],
   "source": [
    "env=gym.make('Blackjack-v0')\n",
    "env.seed(0)\n",
    "print('观察空间={}'.format(env.observation_space))\n",
    "print('动作空间={}'.format(env.action_space))\n",
    "print('动作数量={}'.format(env.action_space.n))"
   ]
  },
  {
   "cell_type": "code",
   "execution_count": 3,
   "metadata": {},
   "outputs": [
    {
     "name": "stdout",
     "output_type": "stream",
     "text": [
      "观测=(18, 1, False)\n",
      "玩家=[10, 8]，庄家=[1, 7]\n",
      "动作=0\n",
      "观测=(18, 1, False),奖励=0.0,结束指示=True\n"
     ]
    }
   ],
   "source": [
    "observation=env.reset()\n",
    "# print(observation)\n",
    "print('观测={}'.format(observation))\n",
    "while True:\n",
    "    print('玩家={}，庄家={}'.format(env.player,env.dealer))\n",
    "    action=np.random.choice(env.action_space.n)\n",
    "    print('动作={}'.format(action))\n",
    "    observation,reward,done,_=env.step(action)\n",
    "    print('观测={},奖励={},结束指示={}'.format(observation,reward,done))\n",
    "    if done:\n",
    "        break"
   ]
  },
  {
   "cell_type": "code",
   "execution_count": 4,
   "metadata": {},
   "outputs": [],
   "source": [
    "def ob2state(observation):\n",
    "    return observation[0],observation[1],int(observation[2])\n",
    "\n",
    "def evaluate_action_montecalro(env,policy,episode_num=5000):\n",
    "    q=np.zeros_like(policy)\n",
    "    c=np.zeros_like(policy)\n",
    "    for _ in range(episode_num):\n",
    "        state_actions=[]\n",
    "        observation=env.reset()\n",
    "        while True:\n",
    "            state=ob2state(observation)\n",
    "            action=np.random.choice(env.action_space.n,p=policy[state])\n",
    "            state_actions.append((state,action))\n",
    "            observation,reward,done,_=env.step(action)\n",
    "            if done:\n",
    "                break\n",
    "        g=reward\n",
    "        for state,action in state_actions:\n",
    "            c[state][action]+=1.\n",
    "            q[state][action]+=(g-q[state][action])/c[state][action]\n",
    "    return q"
   ]
  },
  {
   "cell_type": "code",
   "execution_count": 8,
   "metadata": {},
   "outputs": [],
   "source": [
    "policy=np.zeros((22,11,2,2))\n",
    "policy[20:,:,:,0]=1\n",
    "policy[:20,:,:,1]=1\n",
    "q=evaluate_action_montecalro(env,policy)\n",
    "v=(q*policy).sum(axis=-1)"
   ]
  },
  {
   "cell_type": "code",
   "execution_count": 9,
   "metadata": {},
   "outputs": [],
   "source": [
    "def plot(data):\n",
    "    fig,axes=plt.subplots(1,2,figsize=(9,4))\n",
    "    titles=['without ace','with ace']\n",
    "    have_aces=[0,1]\n",
    "    extent=[12,22,1,11]\n",
    "    for title,have_ace,axis in zip(titles,have_aces,axes):\n",
    "        dat=data[extent[0]:extent[1],extent[2]:extent[3],have_ace].T\n",
    "        axis.imshow(dat,extent=extent,origin='lower')\n",
    "        axis.set_xlabel('player sum')\n",
    "        axis.set_ylabel('dealer showing')\n",
    "        axis.set_title(title)"
   ]
  },
  {
   "cell_type": "code",
   "execution_count": 10,
   "metadata": {},
   "outputs": [
    {
     "name": "stdout",
     "output_type": "stream",
     "text": [
      "观测=(13, 10, True)\n",
      "玩家=[2, 1]，庄家=[10, 9]\n",
      "动作=1\n",
      "观测 = (16, 10, True), 奖励 = 0, 结束指示 = False\n",
      "玩家=[2, 1, 3]，庄家=[10, 9]\n",
      "动作=1\n",
      "观测 = (15, 10, False), 奖励 = 0, 结束指示 = False\n",
      "玩家=[2, 1, 3, 9]，庄家=[10, 9]\n",
      "动作=1\n",
      "观测 = (24, 10, False), 奖励 = -1, 结束指示 = True\n",
      "随机策略奖励：-1\n"
     ]
    }
   ],
   "source": [
    "def play_once(env,policy=None):\n",
    "    total_reward=0\n",
    "    observation=env.reset()\n",
    "    print('观测={}'.format(observation))\n",
    "    while True:\n",
    "        print('玩家={}，庄家={}'.format(env.player,env.dealer))\n",
    "        if policy is None:\n",
    "            action=np.random.choice(env.action_space.n)\n",
    "        print('动作={}'.format(action))\n",
    "        observation,reward,done,_=env.step(action)\n",
    "        print('观测 = {}, 奖励 = {}, 结束指示 = {}'.format(observation, reward, done))\n",
    "        total_reward+=reward\n",
    "        if done:\n",
    "            return total_reward\n",
    "\n",
    "print('随机策略奖励：{}'.format(play_once(env)))"
   ]
  },
  {
   "cell_type": "code",
   "execution_count": 13,
   "metadata": {},
   "outputs": [
    {
     "data": {
      "image/png": "[encoded data removed]",
      "text/plain": [
       "<Figure size 648x288 with 2 Axes>"
      ]
     },
     "metadata": {
      "needs_background": "light"
     },
     "output_type": "display_data"
    }
   ],
   "source": [
    "plot(v)"
   ]
  },
  {
   "cell_type": "code",
   "execution_count": 22,
   "metadata": {},
   "outputs": [],
   "source": [
    "def monte_carlo_with_exploring_start(env,episode_num=50000):\n",
    "    policy=np.zeros((22,11,2,2))\n",
    "    policy[:,:,:,1]=1.\n",
    "    q=np.zeros_like(policy)\n",
    "    c=np.zeros_like(policy)\n",
    "    for _ in range(episode_num):\n",
    "        state=(np.random.randint(12,22),np.random.randint(1,11),np.random.randint(2))\n",
    "        action=np.random.randint(2)\n",
    "        env.reset()\n",
    "        if state[2]:\n",
    "            env.player=[1,state[0]-11]\n",
    "        else:\n",
    "            if state[0]==21:\n",
    "                env.player=[10,9,2]\n",
    "            else:\n",
    "                env.player=[10,state[0]-10]\n",
    "        env.dealer[0]=state[1]\n",
    "        state_actions=[]\n",
    "        while True:\n",
    "            state_actions.append((state,action))\n",
    "            observation,reward,done,_=env.step(action)\n",
    "            if done:\n",
    "                break\n",
    "            state=ob2state(observation)\n",
    "            action=np.random.choice(env.action_space.n,p=policy[state])\n",
    "        g=reward\n",
    "        for state,action in state_actions:\n",
    "            c[state][action]+=1.\n",
    "            q[state][action]+=(g-q[state][action])/c[state][action]\n",
    "            a=q[state].argmax()\n",
    "            policy[state]=0.\n",
    "            policy[state][a]=1.\n",
    "    return policy,q"
   ]
  },
  {
   "cell_type": "code",
   "execution_count": 23,
   "metadata": {},
   "outputs": [
    {
     "data": {
      "image/png": "[encoded data removed]",
      "text/plain": [
       "<Figure size 648x288 with 2 Axes>"
      ]
     },
     "metadata": {
      "needs_background": "light"
     },
     "output_type": "display_data"
    },
    {
     "data": {
      "image/png": "[encoded data removed]",
      "text/plain": [
       "<Figure size 648x288 with 2 Axes>"
      ]
     },
     "metadata": {
      "needs_background": "light"
     },
     "output_type": "display_data"
    }
   ],
   "source": [
    "policy, q = monte_carlo_with_exploring_start(env)\n",
    "v = q.max(axis=-1)\n",
    "plot(policy.argmax(-1))\n",
    "plot(v)"
   ]
  },
  {
   "cell_type": "code",
   "execution_count": 20,
   "metadata": {},
   "outputs": [],
   "source": [
    "def monte_carlo_with_soft(env, episode_num=500000, epsilon=0.1):\n",
    "    policy = np.ones((22, 11, 2, 2)) * 0.5 \n",
    "    q = np.zeros_like(policy)\n",
    "    c = np.zeros_like(policy)\n",
    "    for _ in range(episode_num):\n",
    "        state_actions = []\n",
    "        observation = env.reset()\n",
    "        while True:\n",
    "            state = ob2state(observation)\n",
    "            action = np.random.choice(env.action_space.n, p=policy[state])\n",
    "            state_actions.append((state, action))\n",
    "            observation, reward, done, _ = env.step(action)\n",
    "            if done:\n",
    "                break \n",
    "        g = reward \n",
    "        for state, action in state_actions:\n",
    "            c[state][action] += 1.\n",
    "            q[state][action] += (g - q[state][action]) / c[state][action]\n",
    "            a = q[state].argmax()\n",
    "            policy[state] = epsilon / 2.\n",
    "            policy[state][a] += (1. - epsilon)\n",
    "    return policy, q"
   ]
  },
  {
   "cell_type": "code",
   "execution_count": 21,
   "metadata": {},
   "outputs": [
    {
     "data": {
      "image/png": "[encoded data removed]",
      "text/plain": [
       "<Figure size 648x288 with 2 Axes>"
      ]
     },
     "metadata": {
      "needs_background": "light"
     },
     "output_type": "display_data"
    },
    {
     "data": {
      "image/png": "[encoded data removed]",
      "text/plain": [
       "<Figure size 648x288 with 2 Axes>"
      ]
     },
     "metadata": {
      "needs_background": "light"
     },
     "output_type": "display_data"
    }
   ],
   "source": [
    "policy, q = monte_carlo_with_soft(env)\n",
    "v = q.max(axis=-1)\n",
    "plot(policy.argmax(-1))\n",
    "plot(v)"
   ]
  },
  {
   "cell_type": "code",
   "execution_count": 24,
   "metadata": {},
   "outputs": [],
   "source": [
    "def evaluate_monte_carlo_importance_resample(env,policy,behavior_policy,episode_num=5000):\n",
    "    q=np.zeros_like(policy)\n",
    "    c=np.zeros_like(policy)\n",
    "    for _ in range(episode_num):\n",
    "        state_actions=[]\n",
    "        observation=env.reset()\n",
    "        while True:\n",
    "            state=ob2state(observation)\n",
    "            action=np.random.choice(env.action_space.n,p=behavior_policy[state])\n",
    "            state_actions.append((state,action))\n",
    "            observation,reward,done,_=env.step(action)\n",
    "            if done:\n",
    "                break\n",
    "        g=reward\n",
    "        rho=1.\n",
    "        for state,action in reversed(state_actions):\n",
    "            c[state][action]+=rho\n",
    "            q[state][action]+=(rho/c[state][action]*(g-q[state][action]))\n",
    "            rho*=(policy[state][action]/behavior_policy[state][action])\n",
    "            if rho==0:\n",
    "                break\n",
    "    return q"
   ]
  },
  {
   "cell_type": "code",
   "execution_count": 25,
   "metadata": {},
   "outputs": [
    {
     "data": {
      "image/png": "[encoded data removed]",
      "text/plain": [
       "<Figure size 648x288 with 2 Axes>"
      ]
     },
     "metadata": {
      "needs_background": "light"
     },
     "output_type": "display_data"
    }
   ],
   "source": [
    "policy=np.zeros((22,11,2,2))\n",
    "policy[20:,:,:,0]=1\n",
    "policy[:20,:,:,1]=1\n",
    "behavior_policy=np.ones_like(policy)*0.5\n",
    "q=evaluate_monte_carlo_importance_resample(env,policy,behavior_policy)\n",
    "v=(q*policy).sum(axis=-1)\n",
    "plot(v)"
   ]
  },
  {
   "cell_type": "code",
   "execution_count": 26,
   "metadata": {},
   "outputs": [],
   "source": [
    "def monte_carlo_importance_resample(env, episode_num=500000):\n",
    "    policy = np.zeros((22, 11, 2, 2))\n",
    "    policy[:, :, :, 0] = 1.\n",
    "    behavior_policy = np.ones_like(policy) * 0.5\n",
    "    q = np.zeros_like(policy)\n",
    "    c = np.zeros_like(policy)\n",
    "    for _ in range(episode_num):\n",
    "        state_actions = []\n",
    "        observation = env.reset()\n",
    "        while True:\n",
    "            state = ob2state(observation)\n",
    "            action = np.random.choice(env.action_space.n,p=behavior_policy[state])\n",
    "            state_actions.append((state, action))\n",
    "            observation, reward, done, _ = env.step(action)\n",
    "            if done:\n",
    "                break \n",
    "        g = reward \n",
    "        rho = 1. \n",
    "        for state, action in reversed(state_actions):\n",
    "            c[state][action] += rho\n",
    "            q[state][action] += (rho / c[state][action] * (g - q[state][action]))\n",
    "            a = q[state].argmax()\n",
    "            policy[state] = 0.\n",
    "            policy[state][a] = 1.\n",
    "            if a != action:\n",
    "                break\n",
    "            rho /= behavior_policy[state][action]\n",
    "    return policy, q"
   ]
  },
  {
   "cell_type": "code",
   "execution_count": 27,
   "metadata": {},
   "outputs": [
    {
     "data": {
      "image/png": "[encoded data removed]",
      "text/plain": [
       "<Figure size 648x288 with 2 Axes>"
      ]
     },
     "metadata": {
      "needs_background": "light"
     },
     "output_type": "display_data"
    },
    {
     "data": {
      "image/png": "[encoded data removed]",
      "text/plain": [
       "<Figure size 648x288 with 2 Axes>"
      ]
     },
     "metadata": {
      "needs_background": "light"
     },
     "output_type": "display_data"
    }
   ],
   "source": [
    "policy, q = monte_carlo_importance_resample(env)\n",
    "v = q.max(axis=-1)\n",
    "plot(policy.argmax(-1))\n",
    "plot(v)"
   ]
  },
  {
   "cell_type": "markdown",
   "metadata": {},
   "source": [
    "### 时序差分价值迭代"
   ]
  },
  {
   "cell_type": "code",
   "execution_count": 28,
   "metadata": {},
   "outputs": [],
   "source": [
    "import numpy as np\n",
    "np.random.seed(0)\n",
    "import pandas as pd\n",
    "import matplotlib.pyplot as plt\n",
    "import gym"
   ]
  },
  {
   "cell_type": "code",
   "execution_count": 29,
   "metadata": {},
   "outputs": [
    {
     "name": "stdout",
     "output_type": "stream",
     "text": [
      "观察空间 = Discrete(500)\n",
      "动作空间 = Discrete(6)\n",
      "状态数量 = 500\n",
      "动作数量 = 6\n"
     ]
    }
   ],
   "source": [
    "env = gym.make('Taxi-v2')\n",
    "env.seed(0)\n",
    "print('观察空间 = {}'.format(env.observation_space))\n",
    "print('动作空间 = {}'.format(env.action_space))\n",
    "print('状态数量 = {}'.format(env.observation_space.n))\n",
    "print('动作数量 = {}'.format(env.action_space.n))"
   ]
  },
  {
   "cell_type": "code",
   "execution_count": 30,
   "metadata": {},
   "outputs": [
    {
     "name": "stdout",
     "output_type": "stream",
     "text": [
      "0 1 1 2\n",
      "的士位置=(0, 1)\n",
      "乘客位置=(0, 4)\n",
      "目标位置=(4, 0)\n",
      "+---------+\n",
      "|R:\u001b[43m \u001b[0m| : :\u001b[34;1mG\u001b[0m|\n",
      "| : : : : |\n",
      "| : : : : |\n",
      "| | : | : |\n",
      "|\u001b[35mY\u001b[0m| : |B: |\n",
      "+---------+\n",
      "\n"
     ]
    }
   ],
   "source": [
    "state=env.reset()\n",
    "taxirow,taxicol,passloc,destidx=env.unwrapped.decode(state)\n",
    "print(taxirow,taxicol,passloc,destidx)\n",
    "print('的士位置={}'.format((taxirow,taxicol)))\n",
    "print('乘客位置={}'.format(env.unwrapped.locs[passloc]))\n",
    "print('目标位置={}'.format(env.unwrapped.locs[destidx]))\n",
    "env.render()"
   ]
  },
  {
   "cell_type": "code",
   "execution_count": 33,
   "metadata": {},
   "outputs": [
    {
     "data": {
      "text/plain": [
       "(126, -1, False, {'prob': 1.0})"
      ]
     },
     "execution_count": 33,
     "metadata": {},
     "output_type": "execute_result"
    }
   ],
   "source": [
    "env.step(0)"
   ]
  },
  {
   "cell_type": "code",
   "execution_count": 34,
   "metadata": {},
   "outputs": [
    {
     "name": "stdout",
     "output_type": "stream",
     "text": [
      "+---------+\n",
      "|R: | : :\u001b[34;1mG\u001b[0m|\n",
      "| :\u001b[43m \u001b[0m: : : |\n",
      "| : : : : |\n",
      "| | : | : |\n",
      "|\u001b[35mY\u001b[0m| : |B: |\n",
      "+---------+\n",
      "  (South)\n"
     ]
    }
   ],
   "source": [
    "env.render()"
   ]
  },
  {
   "cell_type": "code",
   "execution_count": 35,
   "metadata": {},
   "outputs": [],
   "source": [
    "class SARSAAgent:\n",
    "    def __init__(self,env,gamma=0.9,learning_rate=0.1,epsilon=.01):\n",
    "        self.gamma=gamma\n",
    "        self.learning_rate=learning_rate\n",
    "        self.epsilon=epsilon\n",
    "        self.action_n=env.action_space.n\n",
    "        self.q=np.zeros((env.observation_space.n,env.action_space.n))\n",
    "    \n",
    "    def decide(self,state):\n",
    "        if np.random.uniform()>self.epsilon:\n",
    "            action=self.q[state].argmax()\n",
    "        else:\n",
    "            action=np.random.randint(self.action_n)\n",
    "        return action\n",
    "    \n",
    "    def learn(self,state,action,reward,next_state,done,next_action):\n",
    "        u=reward+self.gamma*self.q[next_state,next_action]*(1.-done)\n",
    "        td_error=u-self.q[state,action]\n",
    "        self.q[state,action]+=self.learning_rate*td_error"
   ]
  },
  {
   "cell_type": "code",
   "execution_count": 37,
   "metadata": {},
   "outputs": [],
   "source": [
    "def play_sarsa(env,agent,train=False,render=False):\n",
    "    episode_reward=0\n",
    "    observation=env.reset()\n",
    "    action=agent.decide(observation)\n",
    "    while True:\n",
    "        if render:\n",
    "            env.render()\n",
    "        next_observation,reward,done,_=env.step(action)\n",
    "        episode_reward+=reward\n",
    "        next_action=agent.decide(next_observation)\n",
    "        if train:\n",
    "            agent.learn(observation,action,reward,next_observation,done,next_action)\n",
    "        if done:\n",
    "            break\n",
    "        observation,action=next_observation,next_action\n",
    "    return episode_reward"
   ]
  },
  {
   "cell_type": "code",
   "execution_count": 38,
   "metadata": {},
   "outputs": [
    {
     "name": "stdout",
     "output_type": "stream",
     "text": [
      "平均回合奖励 = 866 / 100 = 8.66\n"
     ]
    },
    {
     "data": {
      "image/png": "[encoded data removed]",
      "text/plain": [
       "<Figure size 432x288 with 1 Axes>"
      ]
     },
     "metadata": {
      "needs_background": "light"
     },
     "output_type": "display_data"
    }
   ],
   "source": [
    "agent=SARSAAgent(env)\n",
    "\n",
    "episodes=5000\n",
    "episode_rewards=[]\n",
    "for episode in range(episodes):\n",
    "    episode_reward=play_sarsa(env,agent,train=True)\n",
    "    episode_rewards.append(episode_reward)\n",
    "    \n",
    "plt.plot(episode_rewards)\n",
    "\n",
    "agent.epsilon=0.\n",
    "episode_rewards = [play_sarsa(env, agent) for _ in range(100)]\n",
    "print('平均回合奖励 = {} / {} = {}'.format(sum(episode_rewards),len(episode_rewards), np.mean(episode_rewards)))"
   ]
  },
  {
   "cell_type": "code",
   "execution_count": 39,
   "metadata": {
    "scrolled": true
   },
   "outputs": [
    {
     "data": {
      "text/html": [
       "<div>\n",
       "<style scoped>\n",
       "    .dataframe tbody tr th:only-of-type {\n",
       "        vertical-align: middle;\n",
       "    }\n",
       "\n",
       "    .dataframe tbody tr th {\n",
       "        vertical-align: top;\n",
       "    }\n",
       "\n",
       "    .dataframe thead th {\n",
       "        text-align: right;\n",
       "    }\n",
       "</style>\n",
       "<table border=\"1\" class=\"dataframe\">\n",
       "  <thead>\n",
       "    <tr style=\"text-align: right;\">\n",
       "      <th></th>\n",
       "      <th>0</th>\n",
       "      <th>1</th>\n",
       "      <th>2</th>\n",
       "      <th>3</th>\n",
       "      <th>4</th>\n",
       "      <th>5</th>\n",
       "    </tr>\n",
       "  </thead>\n",
       "  <tbody>\n",
       "    <tr>\n",
       "      <th>0</th>\n",
       "      <td>0.000000</td>\n",
       "      <td>0.000000</td>\n",
       "      <td>0.000000</td>\n",
       "      <td>0.000000</td>\n",
       "      <td>0.000000</td>\n",
       "      <td>0.000000</td>\n",
       "    </tr>\n",
       "    <tr>\n",
       "      <th>1</th>\n",
       "      <td>-2.646310</td>\n",
       "      <td>-2.522631</td>\n",
       "      <td>-2.516217</td>\n",
       "      <td>-1.388479</td>\n",
       "      <td>4.062834</td>\n",
       "      <td>-3.773033</td>\n",
       "    </tr>\n",
       "    <tr>\n",
       "      <th>2</th>\n",
       "      <td>-2.098749</td>\n",
       "      <td>-1.294820</td>\n",
       "      <td>-1.933234</td>\n",
       "      <td>-1.303056</td>\n",
       "      <td>7.293310</td>\n",
       "      <td>-3.772892</td>\n",
       "    </tr>\n",
       "    <tr>\n",
       "      <th>3</th>\n",
       "      <td>-2.934908</td>\n",
       "      <td>-2.929049</td>\n",
       "      <td>-2.870715</td>\n",
       "      <td>-2.521973</td>\n",
       "      <td>2.194945</td>\n",
       "      <td>-3.396430</td>\n",
       "    </tr>\n",
       "    <tr>\n",
       "      <th>4</th>\n",
       "      <td>-3.559915</td>\n",
       "      <td>-4.356514</td>\n",
       "      <td>-4.345907</td>\n",
       "      <td>-4.412836</td>\n",
       "      <td>-5.596085</td>\n",
       "      <td>-5.517758</td>\n",
       "    </tr>\n",
       "    <tr>\n",
       "      <th>5</th>\n",
       "      <td>0.000000</td>\n",
       "      <td>0.000000</td>\n",
       "      <td>0.000000</td>\n",
       "      <td>0.000000</td>\n",
       "      <td>0.000000</td>\n",
       "      <td>0.000000</td>\n",
       "    </tr>\n",
       "    <tr>\n",
       "      <th>6</th>\n",
       "      <td>-5.312338</td>\n",
       "      <td>-5.376064</td>\n",
       "      <td>-5.372342</td>\n",
       "      <td>-5.413750</td>\n",
       "      <td>-5.593334</td>\n",
       "      <td>-5.602908</td>\n",
       "    </tr>\n",
       "    <tr>\n",
       "      <th>7</th>\n",
       "      <td>-4.041623</td>\n",
       "      <td>-4.088066</td>\n",
       "      <td>-3.662406</td>\n",
       "      <td>-4.023481</td>\n",
       "      <td>-5.594706</td>\n",
       "      <td>-4.747250</td>\n",
       "    </tr>\n",
       "    <tr>\n",
       "      <th>8</th>\n",
       "      <td>0.100660</td>\n",
       "      <td>-3.772623</td>\n",
       "      <td>-3.818362</td>\n",
       "      <td>-3.807797</td>\n",
       "      <td>-3.764710</td>\n",
       "      <td>-3.772784</td>\n",
       "    </tr>\n",
       "    <tr>\n",
       "      <th>9</th>\n",
       "      <td>-4.208700</td>\n",
       "      <td>-5.197768</td>\n",
       "      <td>-5.194723</td>\n",
       "      <td>-5.214197</td>\n",
       "      <td>-5.593682</td>\n",
       "      <td>-5.604276</td>\n",
       "    </tr>\n",
       "    <tr>\n",
       "      <th>10</th>\n",
       "      <td>0.000000</td>\n",
       "      <td>0.000000</td>\n",
       "      <td>0.000000</td>\n",
       "      <td>0.000000</td>\n",
       "      <td>0.000000</td>\n",
       "      <td>0.000000</td>\n",
       "    </tr>\n",
       "    <tr>\n",
       "      <th>11</th>\n",
       "      <td>-2.152636</td>\n",
       "      <td>-4.713498</td>\n",
       "      <td>-4.716794</td>\n",
       "      <td>-4.747748</td>\n",
       "      <td>-5.593513</td>\n",
       "      <td>-6.416839</td>\n",
       "    </tr>\n",
       "    <tr>\n",
       "      <th>12</th>\n",
       "      <td>-5.351683</td>\n",
       "      <td>-5.411776</td>\n",
       "      <td>-5.022607</td>\n",
       "      <td>-5.362219</td>\n",
       "      <td>-6.438242</td>\n",
       "      <td>-5.602457</td>\n",
       "    </tr>\n",
       "    <tr>\n",
       "      <th>13</th>\n",
       "      <td>-4.397041</td>\n",
       "      <td>-4.506078</td>\n",
       "      <td>-4.454137</td>\n",
       "      <td>-4.481842</td>\n",
       "      <td>-5.593758</td>\n",
       "      <td>-5.604667</td>\n",
       "    </tr>\n",
       "    <tr>\n",
       "      <th>14</th>\n",
       "      <td>-4.844037</td>\n",
       "      <td>-5.388563</td>\n",
       "      <td>-5.334075</td>\n",
       "      <td>-5.376810</td>\n",
       "      <td>-6.463787</td>\n",
       "      <td>-5.603512</td>\n",
       "    </tr>\n",
       "    <tr>\n",
       "      <th>15</th>\n",
       "      <td>0.000000</td>\n",
       "      <td>0.000000</td>\n",
       "      <td>0.000000</td>\n",
       "      <td>0.000000</td>\n",
       "      <td>0.000000</td>\n",
       "      <td>0.000000</td>\n",
       "    </tr>\n",
       "    <tr>\n",
       "      <th>16</th>\n",
       "      <td>3.382743</td>\n",
       "      <td>3.076100</td>\n",
       "      <td>0.018161</td>\n",
       "      <td>2.691464</td>\n",
       "      <td>-0.064057</td>\n",
       "      <td>20.000000</td>\n",
       "    </tr>\n",
       "    <tr>\n",
       "      <th>17</th>\n",
       "      <td>4.884637</td>\n",
       "      <td>-1.909391</td>\n",
       "      <td>-1.846258</td>\n",
       "      <td>-1.925517</td>\n",
       "      <td>-1.900000</td>\n",
       "      <td>-1.968440</td>\n",
       "    </tr>\n",
       "    <tr>\n",
       "      <th>18</th>\n",
       "      <td>9.217690</td>\n",
       "      <td>-1.424603</td>\n",
       "      <td>-1.468305</td>\n",
       "      <td>-0.545180</td>\n",
       "      <td>-1.947041</td>\n",
       "      <td>-1.491388</td>\n",
       "    </tr>\n",
       "    <tr>\n",
       "      <th>19</th>\n",
       "      <td>3.706306</td>\n",
       "      <td>-2.213027</td>\n",
       "      <td>-2.215788</td>\n",
       "      <td>-1.733527</td>\n",
       "      <td>-3.773522</td>\n",
       "      <td>-1.663348</td>\n",
       "    </tr>\n",
       "    <tr>\n",
       "      <th>20</th>\n",
       "      <td>0.000000</td>\n",
       "      <td>0.000000</td>\n",
       "      <td>0.000000</td>\n",
       "      <td>0.000000</td>\n",
       "      <td>0.000000</td>\n",
       "      <td>0.000000</td>\n",
       "    </tr>\n",
       "    <tr>\n",
       "      <th>21</th>\n",
       "      <td>-2.922877</td>\n",
       "      <td>-2.930036</td>\n",
       "      <td>-2.948970</td>\n",
       "      <td>2.750305</td>\n",
       "      <td>-3.764531</td>\n",
       "      <td>-5.055021</td>\n",
       "    </tr>\n",
       "    <tr>\n",
       "      <th>22</th>\n",
       "      <td>-2.392979</td>\n",
       "      <td>-2.466381</td>\n",
       "      <td>-2.391472</td>\n",
       "      <td>3.787029</td>\n",
       "      <td>-2.776742</td>\n",
       "      <td>-3.774176</td>\n",
       "    </tr>\n",
       "    <tr>\n",
       "      <th>23</th>\n",
       "      <td>-3.246847</td>\n",
       "      <td>-3.299456</td>\n",
       "      <td>-3.279703</td>\n",
       "      <td>0.698301</td>\n",
       "      <td>-5.436041</td>\n",
       "      <td>-3.773309</td>\n",
       "    </tr>\n",
       "    <tr>\n",
       "      <th>24</th>\n",
       "      <td>-2.725821</td>\n",
       "      <td>-4.284445</td>\n",
       "      <td>-4.185055</td>\n",
       "      <td>-4.243993</td>\n",
       "      <td>-5.593515</td>\n",
       "      <td>-5.603367</td>\n",
       "    </tr>\n",
       "    <tr>\n",
       "      <th>25</th>\n",
       "      <td>0.000000</td>\n",
       "      <td>0.000000</td>\n",
       "      <td>0.000000</td>\n",
       "      <td>0.000000</td>\n",
       "      <td>0.000000</td>\n",
       "      <td>0.000000</td>\n",
       "    </tr>\n",
       "    <tr>\n",
       "      <th>26</th>\n",
       "      <td>-4.334674</td>\n",
       "      <td>-5.278100</td>\n",
       "      <td>-5.220441</td>\n",
       "      <td>-5.249170</td>\n",
       "      <td>-6.423642</td>\n",
       "      <td>-5.602747</td>\n",
       "    </tr>\n",
       "    <tr>\n",
       "      <th>27</th>\n",
       "      <td>-2.160334</td>\n",
       "      <td>-3.879956</td>\n",
       "      <td>-3.904519</td>\n",
       "      <td>-3.925656</td>\n",
       "      <td>-5.593602</td>\n",
       "      <td>-5.602719</td>\n",
       "    </tr>\n",
       "    <tr>\n",
       "      <th>28</th>\n",
       "      <td>-2.519749</td>\n",
       "      <td>-3.946635</td>\n",
       "      <td>-4.033968</td>\n",
       "      <td>-3.953943</td>\n",
       "      <td>-5.593413</td>\n",
       "      <td>-5.604455</td>\n",
       "    </tr>\n",
       "    <tr>\n",
       "      <th>29</th>\n",
       "      <td>-4.414467</td>\n",
       "      <td>-5.396647</td>\n",
       "      <td>-5.399477</td>\n",
       "      <td>-5.334643</td>\n",
       "      <td>-6.522612</td>\n",
       "      <td>-5.617238</td>\n",
       "    </tr>\n",
       "    <tr>\n",
       "      <th>...</th>\n",
       "      <td>...</td>\n",
       "      <td>...</td>\n",
       "      <td>...</td>\n",
       "      <td>...</td>\n",
       "      <td>...</td>\n",
       "      <td>...</td>\n",
       "    </tr>\n",
       "    <tr>\n",
       "      <th>470</th>\n",
       "      <td>0.000000</td>\n",
       "      <td>0.000000</td>\n",
       "      <td>0.000000</td>\n",
       "      <td>0.000000</td>\n",
       "      <td>0.000000</td>\n",
       "      <td>0.000000</td>\n",
       "    </tr>\n",
       "    <tr>\n",
       "      <th>471</th>\n",
       "      <td>-5.701727</td>\n",
       "      <td>-4.969105</td>\n",
       "      <td>-5.649315</td>\n",
       "      <td>-5.669660</td>\n",
       "      <td>-7.273194</td>\n",
       "      <td>-6.481080</td>\n",
       "    </tr>\n",
       "    <tr>\n",
       "      <th>472</th>\n",
       "      <td>-2.720934</td>\n",
       "      <td>-2.568396</td>\n",
       "      <td>-3.102266</td>\n",
       "      <td>-2.661344</td>\n",
       "      <td>2.860527</td>\n",
       "      <td>-4.649387</td>\n",
       "    </tr>\n",
       "    <tr>\n",
       "      <th>473</th>\n",
       "      <td>-1.620680</td>\n",
       "      <td>-2.093651</td>\n",
       "      <td>-1.759129</td>\n",
       "      <td>-1.047899</td>\n",
       "      <td>5.595583</td>\n",
       "      <td>-3.909220</td>\n",
       "    </tr>\n",
       "    <tr>\n",
       "      <th>474</th>\n",
       "      <td>-3.325052</td>\n",
       "      <td>-3.298054</td>\n",
       "      <td>-3.293609</td>\n",
       "      <td>-3.270895</td>\n",
       "      <td>2.676148</td>\n",
       "      <td>-6.104474</td>\n",
       "    </tr>\n",
       "    <tr>\n",
       "      <th>475</th>\n",
       "      <td>0.000000</td>\n",
       "      <td>0.000000</td>\n",
       "      <td>0.000000</td>\n",
       "      <td>0.000000</td>\n",
       "      <td>0.000000</td>\n",
       "      <td>0.000000</td>\n",
       "    </tr>\n",
       "    <tr>\n",
       "      <th>476</th>\n",
       "      <td>-2.511774</td>\n",
       "      <td>4.281233</td>\n",
       "      <td>-2.500312</td>\n",
       "      <td>-2.523510</td>\n",
       "      <td>-4.581613</td>\n",
       "      <td>-1.822794</td>\n",
       "    </tr>\n",
       "    <tr>\n",
       "      <th>477</th>\n",
       "      <td>-0.886909</td>\n",
       "      <td>7.601701</td>\n",
       "      <td>-1.461129</td>\n",
       "      <td>-0.718386</td>\n",
       "      <td>-2.767730</td>\n",
       "      <td>-1.561471</td>\n",
       "    </tr>\n",
       "    <tr>\n",
       "      <th>478</th>\n",
       "      <td>-2.166917</td>\n",
       "      <td>4.167572</td>\n",
       "      <td>-2.695147</td>\n",
       "      <td>-2.666475</td>\n",
       "      <td>-2.882075</td>\n",
       "      <td>-2.083502</td>\n",
       "    </tr>\n",
       "    <tr>\n",
       "      <th>479</th>\n",
       "      <td>1.528999</td>\n",
       "      <td>-0.100000</td>\n",
       "      <td>-0.119620</td>\n",
       "      <td>4.468490</td>\n",
       "      <td>0.782900</td>\n",
       "      <td>20.000000</td>\n",
       "    </tr>\n",
       "    <tr>\n",
       "      <th>480</th>\n",
       "      <td>0.000000</td>\n",
       "      <td>0.000000</td>\n",
       "      <td>0.000000</td>\n",
       "      <td>0.000000</td>\n",
       "      <td>0.000000</td>\n",
       "      <td>0.000000</td>\n",
       "    </tr>\n",
       "    <tr>\n",
       "      <th>481</th>\n",
       "      <td>-5.008729</td>\n",
       "      <td>-4.955354</td>\n",
       "      <td>-5.022884</td>\n",
       "      <td>-4.999274</td>\n",
       "      <td>-5.593861</td>\n",
       "      <td>-5.602887</td>\n",
       "    </tr>\n",
       "    <tr>\n",
       "      <th>482</th>\n",
       "      <td>-4.285369</td>\n",
       "      <td>-4.206876</td>\n",
       "      <td>-4.300512</td>\n",
       "      <td>-4.086183</td>\n",
       "      <td>-5.593397</td>\n",
       "      <td>-5.603424</td>\n",
       "    </tr>\n",
       "    <tr>\n",
       "      <th>483</th>\n",
       "      <td>-5.360741</td>\n",
       "      <td>-5.319221</td>\n",
       "      <td>-5.318442</td>\n",
       "      <td>-5.316874</td>\n",
       "      <td>-6.511953</td>\n",
       "      <td>-6.400451</td>\n",
       "    </tr>\n",
       "    <tr>\n",
       "      <th>484</th>\n",
       "      <td>-3.742718</td>\n",
       "      <td>-2.271108</td>\n",
       "      <td>-3.799710</td>\n",
       "      <td>-3.716638</td>\n",
       "      <td>-4.640928</td>\n",
       "      <td>-3.774471</td>\n",
       "    </tr>\n",
       "    <tr>\n",
       "      <th>485</th>\n",
       "      <td>0.000000</td>\n",
       "      <td>0.000000</td>\n",
       "      <td>0.000000</td>\n",
       "      <td>0.000000</td>\n",
       "      <td>0.000000</td>\n",
       "      <td>0.000000</td>\n",
       "    </tr>\n",
       "    <tr>\n",
       "      <th>486</th>\n",
       "      <td>-4.794684</td>\n",
       "      <td>-3.250246</td>\n",
       "      <td>-4.771469</td>\n",
       "      <td>-4.740166</td>\n",
       "      <td>-5.593962</td>\n",
       "      <td>-5.602216</td>\n",
       "    </tr>\n",
       "    <tr>\n",
       "      <th>487</th>\n",
       "      <td>-3.403043</td>\n",
       "      <td>-1.754283</td>\n",
       "      <td>-3.421216</td>\n",
       "      <td>-3.440292</td>\n",
       "      <td>-4.648068</td>\n",
       "      <td>-3.773041</td>\n",
       "    </tr>\n",
       "    <tr>\n",
       "      <th>488</th>\n",
       "      <td>-4.819110</td>\n",
       "      <td>-4.163549</td>\n",
       "      <td>-4.831142</td>\n",
       "      <td>-4.780391</td>\n",
       "      <td>-5.593690</td>\n",
       "      <td>-5.603616</td>\n",
       "    </tr>\n",
       "    <tr>\n",
       "      <th>489</th>\n",
       "      <td>-6.121910</td>\n",
       "      <td>-5.973309</td>\n",
       "      <td>-6.108907</td>\n",
       "      <td>-6.099714</td>\n",
       "      <td>-7.388850</td>\n",
       "      <td>-6.463082</td>\n",
       "    </tr>\n",
       "    <tr>\n",
       "      <th>490</th>\n",
       "      <td>0.000000</td>\n",
       "      <td>0.000000</td>\n",
       "      <td>0.000000</td>\n",
       "      <td>0.000000</td>\n",
       "      <td>0.000000</td>\n",
       "      <td>0.000000</td>\n",
       "    </tr>\n",
       "    <tr>\n",
       "      <th>491</th>\n",
       "      <td>-5.775174</td>\n",
       "      <td>-5.558356</td>\n",
       "      <td>-5.792502</td>\n",
       "      <td>-5.743621</td>\n",
       "      <td>-7.387656</td>\n",
       "      <td>-7.294345</td>\n",
       "    </tr>\n",
       "    <tr>\n",
       "      <th>492</th>\n",
       "      <td>-3.511930</td>\n",
       "      <td>-3.514093</td>\n",
       "      <td>-3.548286</td>\n",
       "      <td>-0.163342</td>\n",
       "      <td>-4.679280</td>\n",
       "      <td>-3.773493</td>\n",
       "    </tr>\n",
       "    <tr>\n",
       "      <th>493</th>\n",
       "      <td>-2.513805</td>\n",
       "      <td>-2.443095</td>\n",
       "      <td>-2.490824</td>\n",
       "      <td>3.240807</td>\n",
       "      <td>-3.764710</td>\n",
       "      <td>-3.772887</td>\n",
       "    </tr>\n",
       "    <tr>\n",
       "      <th>494</th>\n",
       "      <td>-3.673147</td>\n",
       "      <td>-3.657481</td>\n",
       "      <td>-3.677866</td>\n",
       "      <td>-0.032738</td>\n",
       "      <td>-3.795018</td>\n",
       "      <td>-4.712742</td>\n",
       "    </tr>\n",
       "    <tr>\n",
       "      <th>495</th>\n",
       "      <td>0.000000</td>\n",
       "      <td>0.000000</td>\n",
       "      <td>0.000000</td>\n",
       "      <td>0.000000</td>\n",
       "      <td>0.000000</td>\n",
       "      <td>0.000000</td>\n",
       "    </tr>\n",
       "    <tr>\n",
       "      <th>496</th>\n",
       "      <td>-2.211781</td>\n",
       "      <td>-2.221985</td>\n",
       "      <td>-2.222265</td>\n",
       "      <td>-1.673845</td>\n",
       "      <td>-3.764428</td>\n",
       "      <td>-3.773332</td>\n",
       "    </tr>\n",
       "    <tr>\n",
       "      <th>497</th>\n",
       "      <td>-1.258829</td>\n",
       "      <td>-1.152681</td>\n",
       "      <td>-1.267536</td>\n",
       "      <td>-1.128660</td>\n",
       "      <td>-2.792393</td>\n",
       "      <td>-1.909000</td>\n",
       "    </tr>\n",
       "    <tr>\n",
       "      <th>498</th>\n",
       "      <td>-2.508029</td>\n",
       "      <td>-2.501199</td>\n",
       "      <td>-2.523447</td>\n",
       "      <td>-2.513693</td>\n",
       "      <td>-3.764507</td>\n",
       "      <td>-3.772877</td>\n",
       "    </tr>\n",
       "    <tr>\n",
       "      <th>499</th>\n",
       "      <td>-0.190000</td>\n",
       "      <td>-0.199000</td>\n",
       "      <td>-0.190000</td>\n",
       "      <td>3.221900</td>\n",
       "      <td>-1.900000</td>\n",
       "      <td>-1.909000</td>\n",
       "    </tr>\n",
       "  </tbody>\n",
       "</table>\n",
       "<p>500 rows × 6 columns</p>\n",
       "</div>"
      ],
      "text/plain": [
       "            0         1         2         3         4          5\n",
       "0    0.000000  0.000000  0.000000  0.000000  0.000000   0.000000\n",
       "1   -2.646310 -2.522631 -2.516217 -1.388479  4.062834  -3.773033\n",
       "2   -2.098749 -1.294820 -1.933234 -1.303056  7.293310  -3.772892\n",
       "3   -2.934908 -2.929049 -2.870715 -2.521973  2.194945  -3.396430\n",
       "4   -3.559915 -4.356514 -4.345907 -4.412836 -5.596085  -5.517758\n",
       "5    0.000000  0.000000  0.000000  0.000000  0.000000   0.000000\n",
       "6   -5.312338 -5.376064 -5.372342 -5.413750 -5.593334  -5.602908\n",
       "7   -4.041623 -4.088066 -3.662406 -4.023481 -5.594706  -4.747250\n",
       "8    0.100660 -3.772623 -3.818362 -3.807797 -3.764710  -3.772784\n",
       "9   -4.208700 -5.197768 -5.194723 -5.214197 -5.593682  -5.604276\n",
       "10   0.000000  0.000000  0.000000  0.000000  0.000000   0.000000\n",
       "11  -2.152636 -4.713498 -4.716794 -4.747748 -5.593513  -6.416839\n",
       "12  -5.351683 -5.411776 -5.022607 -5.362219 -6.438242  -5.602457\n",
       "13  -4.397041 -4.506078 -4.454137 -4.481842 -5.593758  -5.604667\n",
       "14  -4.844037 -5.388563 -5.334075 -5.376810 -6.463787  -5.603512\n",
       "15   0.000000  0.000000  0.000000  0.000000  0.000000   0.000000\n",
       "16   3.382743  3.076100  0.018161  2.691464 -0.064057  20.000000\n",
       "17   4.884637 -1.909391 -1.846258 -1.925517 -1.900000  -1.968440\n",
       "18   9.217690 -1.424603 -1.468305 -0.545180 -1.947041  -1.491388\n",
       "19   3.706306 -2.213027 -2.215788 -1.733527 -3.773522  -1.663348\n",
       "20   0.000000  0.000000  0.000000  0.000000  0.000000   0.000000\n",
       "21  -2.922877 -2.930036 -2.948970  2.750305 -3.764531  -5.055021\n",
       "22  -2.392979 -2.466381 -2.391472  3.787029 -2.776742  -3.774176\n",
       "23  -3.246847 -3.299456 -3.279703  0.698301 -5.436041  -3.773309\n",
       "24  -2.725821 -4.284445 -4.185055 -4.243993 -5.593515  -5.603367\n",
       "25   0.000000  0.000000  0.000000  0.000000  0.000000   0.000000\n",
       "26  -4.334674 -5.278100 -5.220441 -5.249170 -6.423642  -5.602747\n",
       "27  -2.160334 -3.879956 -3.904519 -3.925656 -5.593602  -5.602719\n",
       "28  -2.519749 -3.946635 -4.033968 -3.953943 -5.593413  -5.604455\n",
       "29  -4.414467 -5.396647 -5.399477 -5.334643 -6.522612  -5.617238\n",
       "..        ...       ...       ...       ...       ...        ...\n",
       "470  0.000000  0.000000  0.000000  0.000000  0.000000   0.000000\n",
       "471 -5.701727 -4.969105 -5.649315 -5.669660 -7.273194  -6.481080\n",
       "472 -2.720934 -2.568396 -3.102266 -2.661344  2.860527  -4.649387\n",
       "473 -1.620680 -2.093651 -1.759129 -1.047899  5.595583  -3.909220\n",
       "474 -3.325052 -3.298054 -3.293609 -3.270895  2.676148  -6.104474\n",
       "475  0.000000  0.000000  0.000000  0.000000  0.000000   0.000000\n",
       "476 -2.511774  4.281233 -2.500312 -2.523510 -4.581613  -1.822794\n",
       "477 -0.886909  7.601701 -1.461129 -0.718386 -2.767730  -1.561471\n",
       "478 -2.166917  4.167572 -2.695147 -2.666475 -2.882075  -2.083502\n",
       "479  1.528999 -0.100000 -0.119620  4.468490  0.782900  20.000000\n",
       "480  0.000000  0.000000  0.000000  0.000000  0.000000   0.000000\n",
       "481 -5.008729 -4.955354 -5.022884 -4.999274 -5.593861  -5.602887\n",
       "482 -4.285369 -4.206876 -4.300512 -4.086183 -5.593397  -5.603424\n",
       "483 -5.360741 -5.319221 -5.318442 -5.316874 -6.511953  -6.400451\n",
       "484 -3.742718 -2.271108 -3.799710 -3.716638 -4.640928  -3.774471\n",
       "485  0.000000  0.000000  0.000000  0.000000  0.000000   0.000000\n",
       "486 -4.794684 -3.250246 -4.771469 -4.740166 -5.593962  -5.602216\n",
       "487 -3.403043 -1.754283 -3.421216 -3.440292 -4.648068  -3.773041\n",
       "488 -4.819110 -4.163549 -4.831142 -4.780391 -5.593690  -5.603616\n",
       "489 -6.121910 -5.973309 -6.108907 -6.099714 -7.388850  -6.463082\n",
       "490  0.000000  0.000000  0.000000  0.000000  0.000000   0.000000\n",
       "491 -5.775174 -5.558356 -5.792502 -5.743621 -7.387656  -7.294345\n",
       "492 -3.511930 -3.514093 -3.548286 -0.163342 -4.679280  -3.773493\n",
       "493 -2.513805 -2.443095 -2.490824  3.240807 -3.764710  -3.772887\n",
       "494 -3.673147 -3.657481 -3.677866 -0.032738 -3.795018  -4.712742\n",
       "495  0.000000  0.000000  0.000000  0.000000  0.000000   0.000000\n",
       "496 -2.211781 -2.221985 -2.222265 -1.673845 -3.764428  -3.773332\n",
       "497 -1.258829 -1.152681 -1.267536 -1.128660 -2.792393  -1.909000\n",
       "498 -2.508029 -2.501199 -2.523447 -2.513693 -3.764507  -3.772877\n",
       "499 -0.190000 -0.199000 -0.190000  3.221900 -1.900000  -1.909000\n",
       "\n",
       "[500 rows x 6 columns]"
      ]
     },
     "execution_count": 39,
     "metadata": {},
     "output_type": "execute_result"
    }
   ],
   "source": [
    "pd.DataFrame(agent.q)"
   ]
  },
  {
   "cell_type": "code",
   "execution_count": 40,
   "metadata": {},
   "outputs": [
    {
     "data": {
      "text/html": [
       "<div>\n",
       "<style scoped>\n",
       "    .dataframe tbody tr th:only-of-type {\n",
       "        vertical-align: middle;\n",
       "    }\n",
       "\n",
       "    .dataframe tbody tr th {\n",
       "        vertical-align: top;\n",
       "    }\n",
       "\n",
       "    .dataframe thead th {\n",
       "        text-align: right;\n",
       "    }\n",
       "</style>\n",
       "<table border=\"1\" class=\"dataframe\">\n",
       "  <thead>\n",
       "    <tr style=\"text-align: right;\">\n",
       "      <th></th>\n",
       "      <th>0</th>\n",
       "      <th>1</th>\n",
       "      <th>2</th>\n",
       "      <th>3</th>\n",
       "      <th>4</th>\n",
       "      <th>5</th>\n",
       "    </tr>\n",
       "  </thead>\n",
       "  <tbody>\n",
       "    <tr>\n",
       "      <th>0</th>\n",
       "      <td>1.0</td>\n",
       "      <td>0.0</td>\n",
       "      <td>0.0</td>\n",
       "      <td>0.0</td>\n",
       "      <td>0.0</td>\n",
       "      <td>0.0</td>\n",
       "    </tr>\n",
       "    <tr>\n",
       "      <th>1</th>\n",
       "      <td>0.0</td>\n",
       "      <td>0.0</td>\n",
       "      <td>0.0</td>\n",
       "      <td>0.0</td>\n",
       "      <td>1.0</td>\n",
       "      <td>0.0</td>\n",
       "    </tr>\n",
       "    <tr>\n",
       "      <th>2</th>\n",
       "      <td>0.0</td>\n",
       "      <td>0.0</td>\n",
       "      <td>0.0</td>\n",
       "      <td>0.0</td>\n",
       "      <td>1.0</td>\n",
       "      <td>0.0</td>\n",
       "    </tr>\n",
       "    <tr>\n",
       "      <th>3</th>\n",
       "      <td>0.0</td>\n",
       "      <td>0.0</td>\n",
       "      <td>0.0</td>\n",
       "      <td>0.0</td>\n",
       "      <td>1.0</td>\n",
       "      <td>0.0</td>\n",
       "    </tr>\n",
       "    <tr>\n",
       "      <th>4</th>\n",
       "      <td>1.0</td>\n",
       "      <td>0.0</td>\n",
       "      <td>0.0</td>\n",
       "      <td>0.0</td>\n",
       "      <td>0.0</td>\n",
       "      <td>0.0</td>\n",
       "    </tr>\n",
       "    <tr>\n",
       "      <th>5</th>\n",
       "      <td>1.0</td>\n",
       "      <td>0.0</td>\n",
       "      <td>0.0</td>\n",
       "      <td>0.0</td>\n",
       "      <td>0.0</td>\n",
       "      <td>0.0</td>\n",
       "    </tr>\n",
       "    <tr>\n",
       "      <th>6</th>\n",
       "      <td>1.0</td>\n",
       "      <td>0.0</td>\n",
       "      <td>0.0</td>\n",
       "      <td>0.0</td>\n",
       "      <td>0.0</td>\n",
       "      <td>0.0</td>\n",
       "    </tr>\n",
       "    <tr>\n",
       "      <th>7</th>\n",
       "      <td>0.0</td>\n",
       "      <td>0.0</td>\n",
       "      <td>1.0</td>\n",
       "      <td>0.0</td>\n",
       "      <td>0.0</td>\n",
       "      <td>0.0</td>\n",
       "    </tr>\n",
       "    <tr>\n",
       "      <th>8</th>\n",
       "      <td>1.0</td>\n",
       "      <td>0.0</td>\n",
       "      <td>0.0</td>\n",
       "      <td>0.0</td>\n",
       "      <td>0.0</td>\n",
       "      <td>0.0</td>\n",
       "    </tr>\n",
       "    <tr>\n",
       "      <th>9</th>\n",
       "      <td>1.0</td>\n",
       "      <td>0.0</td>\n",
       "      <td>0.0</td>\n",
       "      <td>0.0</td>\n",
       "      <td>0.0</td>\n",
       "      <td>0.0</td>\n",
       "    </tr>\n",
       "    <tr>\n",
       "      <th>10</th>\n",
       "      <td>1.0</td>\n",
       "      <td>0.0</td>\n",
       "      <td>0.0</td>\n",
       "      <td>0.0</td>\n",
       "      <td>0.0</td>\n",
       "      <td>0.0</td>\n",
       "    </tr>\n",
       "    <tr>\n",
       "      <th>11</th>\n",
       "      <td>1.0</td>\n",
       "      <td>0.0</td>\n",
       "      <td>0.0</td>\n",
       "      <td>0.0</td>\n",
       "      <td>0.0</td>\n",
       "      <td>0.0</td>\n",
       "    </tr>\n",
       "    <tr>\n",
       "      <th>12</th>\n",
       "      <td>0.0</td>\n",
       "      <td>0.0</td>\n",
       "      <td>1.0</td>\n",
       "      <td>0.0</td>\n",
       "      <td>0.0</td>\n",
       "      <td>0.0</td>\n",
       "    </tr>\n",
       "    <tr>\n",
       "      <th>13</th>\n",
       "      <td>1.0</td>\n",
       "      <td>0.0</td>\n",
       "      <td>0.0</td>\n",
       "      <td>0.0</td>\n",
       "      <td>0.0</td>\n",
       "      <td>0.0</td>\n",
       "    </tr>\n",
       "    <tr>\n",
       "      <th>14</th>\n",
       "      <td>1.0</td>\n",
       "      <td>0.0</td>\n",
       "      <td>0.0</td>\n",
       "      <td>0.0</td>\n",
       "      <td>0.0</td>\n",
       "      <td>0.0</td>\n",
       "    </tr>\n",
       "    <tr>\n",
       "      <th>15</th>\n",
       "      <td>1.0</td>\n",
       "      <td>0.0</td>\n",
       "      <td>0.0</td>\n",
       "      <td>0.0</td>\n",
       "      <td>0.0</td>\n",
       "      <td>0.0</td>\n",
       "    </tr>\n",
       "    <tr>\n",
       "      <th>16</th>\n",
       "      <td>0.0</td>\n",
       "      <td>0.0</td>\n",
       "      <td>0.0</td>\n",
       "      <td>0.0</td>\n",
       "      <td>0.0</td>\n",
       "      <td>1.0</td>\n",
       "    </tr>\n",
       "    <tr>\n",
       "      <th>17</th>\n",
       "      <td>1.0</td>\n",
       "      <td>0.0</td>\n",
       "      <td>0.0</td>\n",
       "      <td>0.0</td>\n",
       "      <td>0.0</td>\n",
       "      <td>0.0</td>\n",
       "    </tr>\n",
       "    <tr>\n",
       "      <th>18</th>\n",
       "      <td>1.0</td>\n",
       "      <td>0.0</td>\n",
       "      <td>0.0</td>\n",
       "      <td>0.0</td>\n",
       "      <td>0.0</td>\n",
       "      <td>0.0</td>\n",
       "    </tr>\n",
       "    <tr>\n",
       "      <th>19</th>\n",
       "      <td>1.0</td>\n",
       "      <td>0.0</td>\n",
       "      <td>0.0</td>\n",
       "      <td>0.0</td>\n",
       "      <td>0.0</td>\n",
       "      <td>0.0</td>\n",
       "    </tr>\n",
       "    <tr>\n",
       "      <th>20</th>\n",
       "      <td>1.0</td>\n",
       "      <td>0.0</td>\n",
       "      <td>0.0</td>\n",
       "      <td>0.0</td>\n",
       "      <td>0.0</td>\n",
       "      <td>0.0</td>\n",
       "    </tr>\n",
       "    <tr>\n",
       "      <th>21</th>\n",
       "      <td>0.0</td>\n",
       "      <td>0.0</td>\n",
       "      <td>0.0</td>\n",
       "      <td>1.0</td>\n",
       "      <td>0.0</td>\n",
       "      <td>0.0</td>\n",
       "    </tr>\n",
       "    <tr>\n",
       "      <th>22</th>\n",
       "      <td>0.0</td>\n",
       "      <td>0.0</td>\n",
       "      <td>0.0</td>\n",
       "      <td>1.0</td>\n",
       "      <td>0.0</td>\n",
       "      <td>0.0</td>\n",
       "    </tr>\n",
       "    <tr>\n",
       "      <th>23</th>\n",
       "      <td>0.0</td>\n",
       "      <td>0.0</td>\n",
       "      <td>0.0</td>\n",
       "      <td>1.0</td>\n",
       "      <td>0.0</td>\n",
       "      <td>0.0</td>\n",
       "    </tr>\n",
       "    <tr>\n",
       "      <th>24</th>\n",
       "      <td>1.0</td>\n",
       "      <td>0.0</td>\n",
       "      <td>0.0</td>\n",
       "      <td>0.0</td>\n",
       "      <td>0.0</td>\n",
       "      <td>0.0</td>\n",
       "    </tr>\n",
       "    <tr>\n",
       "      <th>25</th>\n",
       "      <td>1.0</td>\n",
       "      <td>0.0</td>\n",
       "      <td>0.0</td>\n",
       "      <td>0.0</td>\n",
       "      <td>0.0</td>\n",
       "      <td>0.0</td>\n",
       "    </tr>\n",
       "    <tr>\n",
       "      <th>26</th>\n",
       "      <td>1.0</td>\n",
       "      <td>0.0</td>\n",
       "      <td>0.0</td>\n",
       "      <td>0.0</td>\n",
       "      <td>0.0</td>\n",
       "      <td>0.0</td>\n",
       "    </tr>\n",
       "    <tr>\n",
       "      <th>27</th>\n",
       "      <td>1.0</td>\n",
       "      <td>0.0</td>\n",
       "      <td>0.0</td>\n",
       "      <td>0.0</td>\n",
       "      <td>0.0</td>\n",
       "      <td>0.0</td>\n",
       "    </tr>\n",
       "    <tr>\n",
       "      <th>28</th>\n",
       "      <td>1.0</td>\n",
       "      <td>0.0</td>\n",
       "      <td>0.0</td>\n",
       "      <td>0.0</td>\n",
       "      <td>0.0</td>\n",
       "      <td>0.0</td>\n",
       "    </tr>\n",
       "    <tr>\n",
       "      <th>29</th>\n",
       "      <td>1.0</td>\n",
       "      <td>0.0</td>\n",
       "      <td>0.0</td>\n",
       "      <td>0.0</td>\n",
       "      <td>0.0</td>\n",
       "      <td>0.0</td>\n",
       "    </tr>\n",
       "    <tr>\n",
       "      <th>...</th>\n",
       "      <td>...</td>\n",
       "      <td>...</td>\n",
       "      <td>...</td>\n",
       "      <td>...</td>\n",
       "      <td>...</td>\n",
       "      <td>...</td>\n",
       "    </tr>\n",
       "    <tr>\n",
       "      <th>470</th>\n",
       "      <td>1.0</td>\n",
       "      <td>0.0</td>\n",
       "      <td>0.0</td>\n",
       "      <td>0.0</td>\n",
       "      <td>0.0</td>\n",
       "      <td>0.0</td>\n",
       "    </tr>\n",
       "    <tr>\n",
       "      <th>471</th>\n",
       "      <td>0.0</td>\n",
       "      <td>1.0</td>\n",
       "      <td>0.0</td>\n",
       "      <td>0.0</td>\n",
       "      <td>0.0</td>\n",
       "      <td>0.0</td>\n",
       "    </tr>\n",
       "    <tr>\n",
       "      <th>472</th>\n",
       "      <td>0.0</td>\n",
       "      <td>0.0</td>\n",
       "      <td>0.0</td>\n",
       "      <td>0.0</td>\n",
       "      <td>1.0</td>\n",
       "      <td>0.0</td>\n",
       "    </tr>\n",
       "    <tr>\n",
       "      <th>473</th>\n",
       "      <td>0.0</td>\n",
       "      <td>0.0</td>\n",
       "      <td>0.0</td>\n",
       "      <td>0.0</td>\n",
       "      <td>1.0</td>\n",
       "      <td>0.0</td>\n",
       "    </tr>\n",
       "    <tr>\n",
       "      <th>474</th>\n",
       "      <td>0.0</td>\n",
       "      <td>0.0</td>\n",
       "      <td>0.0</td>\n",
       "      <td>0.0</td>\n",
       "      <td>1.0</td>\n",
       "      <td>0.0</td>\n",
       "    </tr>\n",
       "    <tr>\n",
       "      <th>475</th>\n",
       "      <td>1.0</td>\n",
       "      <td>0.0</td>\n",
       "      <td>0.0</td>\n",
       "      <td>0.0</td>\n",
       "      <td>0.0</td>\n",
       "      <td>0.0</td>\n",
       "    </tr>\n",
       "    <tr>\n",
       "      <th>476</th>\n",
       "      <td>0.0</td>\n",
       "      <td>1.0</td>\n",
       "      <td>0.0</td>\n",
       "      <td>0.0</td>\n",
       "      <td>0.0</td>\n",
       "      <td>0.0</td>\n",
       "    </tr>\n",
       "    <tr>\n",
       "      <th>477</th>\n",
       "      <td>0.0</td>\n",
       "      <td>1.0</td>\n",
       "      <td>0.0</td>\n",
       "      <td>0.0</td>\n",
       "      <td>0.0</td>\n",
       "      <td>0.0</td>\n",
       "    </tr>\n",
       "    <tr>\n",
       "      <th>478</th>\n",
       "      <td>0.0</td>\n",
       "      <td>1.0</td>\n",
       "      <td>0.0</td>\n",
       "      <td>0.0</td>\n",
       "      <td>0.0</td>\n",
       "      <td>0.0</td>\n",
       "    </tr>\n",
       "    <tr>\n",
       "      <th>479</th>\n",
       "      <td>0.0</td>\n",
       "      <td>0.0</td>\n",
       "      <td>0.0</td>\n",
       "      <td>0.0</td>\n",
       "      <td>0.0</td>\n",
       "      <td>1.0</td>\n",
       "    </tr>\n",
       "    <tr>\n",
       "      <th>480</th>\n",
       "      <td>1.0</td>\n",
       "      <td>0.0</td>\n",
       "      <td>0.0</td>\n",
       "      <td>0.0</td>\n",
       "      <td>0.0</td>\n",
       "      <td>0.0</td>\n",
       "    </tr>\n",
       "    <tr>\n",
       "      <th>481</th>\n",
       "      <td>0.0</td>\n",
       "      <td>1.0</td>\n",
       "      <td>0.0</td>\n",
       "      <td>0.0</td>\n",
       "      <td>0.0</td>\n",
       "      <td>0.0</td>\n",
       "    </tr>\n",
       "    <tr>\n",
       "      <th>482</th>\n",
       "      <td>0.0</td>\n",
       "      <td>0.0</td>\n",
       "      <td>0.0</td>\n",
       "      <td>1.0</td>\n",
       "      <td>0.0</td>\n",
       "      <td>0.0</td>\n",
       "    </tr>\n",
       "    <tr>\n",
       "      <th>483</th>\n",
       "      <td>0.0</td>\n",
       "      <td>0.0</td>\n",
       "      <td>0.0</td>\n",
       "      <td>1.0</td>\n",
       "      <td>0.0</td>\n",
       "      <td>0.0</td>\n",
       "    </tr>\n",
       "    <tr>\n",
       "      <th>484</th>\n",
       "      <td>0.0</td>\n",
       "      <td>1.0</td>\n",
       "      <td>0.0</td>\n",
       "      <td>0.0</td>\n",
       "      <td>0.0</td>\n",
       "      <td>0.0</td>\n",
       "    </tr>\n",
       "    <tr>\n",
       "      <th>485</th>\n",
       "      <td>1.0</td>\n",
       "      <td>0.0</td>\n",
       "      <td>0.0</td>\n",
       "      <td>0.0</td>\n",
       "      <td>0.0</td>\n",
       "      <td>0.0</td>\n",
       "    </tr>\n",
       "    <tr>\n",
       "      <th>486</th>\n",
       "      <td>0.0</td>\n",
       "      <td>1.0</td>\n",
       "      <td>0.0</td>\n",
       "      <td>0.0</td>\n",
       "      <td>0.0</td>\n",
       "      <td>0.0</td>\n",
       "    </tr>\n",
       "    <tr>\n",
       "      <th>487</th>\n",
       "      <td>0.0</td>\n",
       "      <td>1.0</td>\n",
       "      <td>0.0</td>\n",
       "      <td>0.0</td>\n",
       "      <td>0.0</td>\n",
       "      <td>0.0</td>\n",
       "    </tr>\n",
       "    <tr>\n",
       "      <th>488</th>\n",
       "      <td>0.0</td>\n",
       "      <td>1.0</td>\n",
       "      <td>0.0</td>\n",
       "      <td>0.0</td>\n",
       "      <td>0.0</td>\n",
       "      <td>0.0</td>\n",
       "    </tr>\n",
       "    <tr>\n",
       "      <th>489</th>\n",
       "      <td>0.0</td>\n",
       "      <td>1.0</td>\n",
       "      <td>0.0</td>\n",
       "      <td>0.0</td>\n",
       "      <td>0.0</td>\n",
       "      <td>0.0</td>\n",
       "    </tr>\n",
       "    <tr>\n",
       "      <th>490</th>\n",
       "      <td>1.0</td>\n",
       "      <td>0.0</td>\n",
       "      <td>0.0</td>\n",
       "      <td>0.0</td>\n",
       "      <td>0.0</td>\n",
       "      <td>0.0</td>\n",
       "    </tr>\n",
       "    <tr>\n",
       "      <th>491</th>\n",
       "      <td>0.0</td>\n",
       "      <td>1.0</td>\n",
       "      <td>0.0</td>\n",
       "      <td>0.0</td>\n",
       "      <td>0.0</td>\n",
       "      <td>0.0</td>\n",
       "    </tr>\n",
       "    <tr>\n",
       "      <th>492</th>\n",
       "      <td>0.0</td>\n",
       "      <td>0.0</td>\n",
       "      <td>0.0</td>\n",
       "      <td>1.0</td>\n",
       "      <td>0.0</td>\n",
       "      <td>0.0</td>\n",
       "    </tr>\n",
       "    <tr>\n",
       "      <th>493</th>\n",
       "      <td>0.0</td>\n",
       "      <td>0.0</td>\n",
       "      <td>0.0</td>\n",
       "      <td>1.0</td>\n",
       "      <td>0.0</td>\n",
       "      <td>0.0</td>\n",
       "    </tr>\n",
       "    <tr>\n",
       "      <th>494</th>\n",
       "      <td>0.0</td>\n",
       "      <td>0.0</td>\n",
       "      <td>0.0</td>\n",
       "      <td>1.0</td>\n",
       "      <td>0.0</td>\n",
       "      <td>0.0</td>\n",
       "    </tr>\n",
       "    <tr>\n",
       "      <th>495</th>\n",
       "      <td>1.0</td>\n",
       "      <td>0.0</td>\n",
       "      <td>0.0</td>\n",
       "      <td>0.0</td>\n",
       "      <td>0.0</td>\n",
       "      <td>0.0</td>\n",
       "    </tr>\n",
       "    <tr>\n",
       "      <th>496</th>\n",
       "      <td>0.0</td>\n",
       "      <td>0.0</td>\n",
       "      <td>0.0</td>\n",
       "      <td>1.0</td>\n",
       "      <td>0.0</td>\n",
       "      <td>0.0</td>\n",
       "    </tr>\n",
       "    <tr>\n",
       "      <th>497</th>\n",
       "      <td>0.0</td>\n",
       "      <td>0.0</td>\n",
       "      <td>0.0</td>\n",
       "      <td>1.0</td>\n",
       "      <td>0.0</td>\n",
       "      <td>0.0</td>\n",
       "    </tr>\n",
       "    <tr>\n",
       "      <th>498</th>\n",
       "      <td>0.0</td>\n",
       "      <td>1.0</td>\n",
       "      <td>0.0</td>\n",
       "      <td>0.0</td>\n",
       "      <td>0.0</td>\n",
       "      <td>0.0</td>\n",
       "    </tr>\n",
       "    <tr>\n",
       "      <th>499</th>\n",
       "      <td>0.0</td>\n",
       "      <td>0.0</td>\n",
       "      <td>0.0</td>\n",
       "      <td>1.0</td>\n",
       "      <td>0.0</td>\n",
       "      <td>0.0</td>\n",
       "    </tr>\n",
       "  </tbody>\n",
       "</table>\n",
       "<p>500 rows × 6 columns</p>\n",
       "</div>"
      ],
      "text/plain": [
       "       0    1    2    3    4    5\n",
       "0    1.0  0.0  0.0  0.0  0.0  0.0\n",
       "1    0.0  0.0  0.0  0.0  1.0  0.0\n",
       "2    0.0  0.0  0.0  0.0  1.0  0.0\n",
       "3    0.0  0.0  0.0  0.0  1.0  0.0\n",
       "4    1.0  0.0  0.0  0.0  0.0  0.0\n",
       "5    1.0  0.0  0.0  0.0  0.0  0.0\n",
       "6    1.0  0.0  0.0  0.0  0.0  0.0\n",
       "7    0.0  0.0  1.0  0.0  0.0  0.0\n",
       "8    1.0  0.0  0.0  0.0  0.0  0.0\n",
       "9    1.0  0.0  0.0  0.0  0.0  0.0\n",
       "10   1.0  0.0  0.0  0.0  0.0  0.0\n",
       "11   1.0  0.0  0.0  0.0  0.0  0.0\n",
       "12   0.0  0.0  1.0  0.0  0.0  0.0\n",
       "13   1.0  0.0  0.0  0.0  0.0  0.0\n",
       "14   1.0  0.0  0.0  0.0  0.0  0.0\n",
       "15   1.0  0.0  0.0  0.0  0.0  0.0\n",
       "16   0.0  0.0  0.0  0.0  0.0  1.0\n",
       "17   1.0  0.0  0.0  0.0  0.0  0.0\n",
       "18   1.0  0.0  0.0  0.0  0.0  0.0\n",
       "19   1.0  0.0  0.0  0.0  0.0  0.0\n",
       "20   1.0  0.0  0.0  0.0  0.0  0.0\n",
       "21   0.0  0.0  0.0  1.0  0.0  0.0\n",
       "22   0.0  0.0  0.0  1.0  0.0  0.0\n",
       "23   0.0  0.0  0.0  1.0  0.0  0.0\n",
       "24   1.0  0.0  0.0  0.0  0.0  0.0\n",
       "25   1.0  0.0  0.0  0.0  0.0  0.0\n",
       "26   1.0  0.0  0.0  0.0  0.0  0.0\n",
       "27   1.0  0.0  0.0  0.0  0.0  0.0\n",
       "28   1.0  0.0  0.0  0.0  0.0  0.0\n",
       "29   1.0  0.0  0.0  0.0  0.0  0.0\n",
       "..   ...  ...  ...  ...  ...  ...\n",
       "470  1.0  0.0  0.0  0.0  0.0  0.0\n",
       "471  0.0  1.0  0.0  0.0  0.0  0.0\n",
       "472  0.0  0.0  0.0  0.0  1.0  0.0\n",
       "473  0.0  0.0  0.0  0.0  1.0  0.0\n",
       "474  0.0  0.0  0.0  0.0  1.0  0.0\n",
       "475  1.0  0.0  0.0  0.0  0.0  0.0\n",
       "476  0.0  1.0  0.0  0.0  0.0  0.0\n",
       "477  0.0  1.0  0.0  0.0  0.0  0.0\n",
       "478  0.0  1.0  0.0  0.0  0.0  0.0\n",
       "479  0.0  0.0  0.0  0.0  0.0  1.0\n",
       "480  1.0  0.0  0.0  0.0  0.0  0.0\n",
       "481  0.0  1.0  0.0  0.0  0.0  0.0\n",
       "482  0.0  0.0  0.0  1.0  0.0  0.0\n",
       "483  0.0  0.0  0.0  1.0  0.0  0.0\n",
       "484  0.0  1.0  0.0  0.0  0.0  0.0\n",
       "485  1.0  0.0  0.0  0.0  0.0  0.0\n",
       "486  0.0  1.0  0.0  0.0  0.0  0.0\n",
       "487  0.0  1.0  0.0  0.0  0.0  0.0\n",
       "488  0.0  1.0  0.0  0.0  0.0  0.0\n",
       "489  0.0  1.0  0.0  0.0  0.0  0.0\n",
       "490  1.0  0.0  0.0  0.0  0.0  0.0\n",
       "491  0.0  1.0  0.0  0.0  0.0  0.0\n",
       "492  0.0  0.0  0.0  1.0  0.0  0.0\n",
       "493  0.0  0.0  0.0  1.0  0.0  0.0\n",
       "494  0.0  0.0  0.0  1.0  0.0  0.0\n",
       "495  1.0  0.0  0.0  0.0  0.0  0.0\n",
       "496  0.0  0.0  0.0  1.0  0.0  0.0\n",
       "497  0.0  0.0  0.0  1.0  0.0  0.0\n",
       "498  0.0  1.0  0.0  0.0  0.0  0.0\n",
       "499  0.0  0.0  0.0  1.0  0.0  0.0\n",
       "\n",
       "[500 rows x 6 columns]"
      ]
     },
     "execution_count": 40,
     "metadata": {},
     "output_type": "execute_result"
    }
   ],
   "source": [
    "policy=np.eye(agent.action_n)[agent.q.argmax(axis=-1)]\n",
    "pd.DataFrame(policy)"
   ]
  },
  {
   "cell_type": "code",
   "execution_count": 41,
   "metadata": {},
   "outputs": [],
   "source": [
    "class ExpectedSARSAAgent:\n",
    "    def __init__(self,env,gamma=0.9,learning_rate=0.1,epsilon=.01):\n",
    "        self.gamma=gamma\n",
    "        self.learning_rate=learning_rate\n",
    "        self.epsilon=epsilon\n",
    "        self.q=np.zeros((env.observation_space.n,env.action_space.n))\n",
    "        self.action_n=env.action_space.n\n",
    "        \n",
    "    def decide(self,state):\n",
    "        if np.random.uniform()>self.epsilon:\n",
    "            action=self.q[state].argmax()\n",
    "        else:\n",
    "            action=np.random.randint(self.action_n)\n",
    "        return action\n",
    "    \n",
    "    def learn(self,state,action,reward,next_state,done):\n",
    "        v=(self.q[next_state].sum()*self.epsilon+self.q[next_state].max()*(1-self.epsilon))\n",
    "        u=reward+self.gamma*v*(1-done)\n",
    "        td_error=u-self.q[state,action]\n",
    "        self.q[state,action]+=self.learning_rate*td_error"
   ]
  },
  {
   "cell_type": "code",
   "execution_count": 42,
   "metadata": {},
   "outputs": [],
   "source": [
    "def play_qlearning(env,agent,train=False,render=False):\n",
    "    episode_reward=0\n",
    "    observation=env.reset()\n",
    "    while True:\n",
    "        if render:\n",
    "            env.render()\n",
    "        action=agent.decide(observation)\n",
    "        next_observation,reward,done,_=env.step(action)\n",
    "        episode_reward+=reward\n",
    "        if train:\n",
    "            agent.learn(observation,action,reward,next_observation,done)\n",
    "        if done:\n",
    "            break\n",
    "        observation=next_observation\n",
    "    return episode_reward"
   ]
  },
  {
   "cell_type": "code",
   "execution_count": 43,
   "metadata": {},
   "outputs": [
    {
     "data": {
      "text/plain": [
       "[<matplotlib.lines.Line2D at 0x7f993be44198>]"
      ]
     },
     "execution_count": 43,
     "metadata": {},
     "output_type": "execute_result"
    },
    {
     "data": {
      "image/png": "[encoded data removed]",
      "text/plain": [
       "<Figure size 432x288 with 1 Axes>"
      ]
     },
     "metadata": {
      "needs_background": "light"
     },
     "output_type": "display_data"
    }
   ],
   "source": [
    "agent=ExpectedSARSAAgent(env)\n",
    "\n",
    "episodes=5000\n",
    "episode_rewards=[]\n",
    "for episode in range(episodes):\n",
    "    episode_reward=play_qlearning(env,agent,train=True)\n",
    "    episode_rewards.append(episode_reward)\n",
    "    \n",
    "plt.plot(episode_rewards)"
   ]
  },
  {
   "cell_type": "code",
   "execution_count": 44,
   "metadata": {},
   "outputs": [],
   "source": [
    "class QLearningAgent:\n",
    "    def __init__(self,env,gamma=0.9,learning_rate=0.1,epsilon=.01):\n",
    "        self.gamma=gamma\n",
    "        self.learning_rate=learning_rate\n",
    "        self.epsilon=epsilon\n",
    "        self.action_n=env.action_space.n\n",
    "        self.q=np.zeros((env.observation_space.n,env.action_space.n))\n",
    "        \n",
    "    def decide(self,state):\n",
    "        if np.random.uniform() > self.epsilon:\n",
    "            action = self.q[state].argmax()\n",
    "        else:\n",
    "            action = np.random.randint(self.action_n)\n",
    "        return action \n",
    "    \n",
    "    def learn(self,state,action,reward,next_state,done):\n",
    "        u=reward+self.gamma*self.q[next_state].max()*(1-done)\n",
    "        td_error=u-self.q[state,action]\n",
    "        self.q[state,action]+=self.learning_rate*td_error"
   ]
  },
  {
   "cell_type": "code",
   "execution_count": 45,
   "metadata": {},
   "outputs": [
    {
     "data": {
      "text/plain": [
       "[<matplotlib.lines.Line2D at 0x7f99385e2b00>]"
      ]
     },
     "execution_count": 45,
     "metadata": {},
     "output_type": "execute_result"
    },
    {
     "data": {
      "image/png": "[encoded data removed]",
      "text/plain": [
       "<Figure size 432x288 with 1 Axes>"
      ]
     },
     "metadata": {
      "needs_background": "light"
     },
     "output_type": "display_data"
    }
   ],
   "source": [
    "agent = QLearningAgent(env)\n",
    "episodes = 5000\n",
    "episode_rewards = []\n",
    "for episode in range(episodes):\n",
    "    episode_reward = play_qlearning(env, agent, train=True)\n",
    "    episode_rewards.append(episode_reward)\n",
    "    \n",
    "plt.plot(episode_rewards)"
   ]
  },
  {
   "cell_type": "code",
   "execution_count": 46,
   "metadata": {},
   "outputs": [],
   "source": [
    "class DoubleQLearningAgent:\n",
    "    def __init__(self, env, gamma=0.9, learning_rate=0.1, epsilon=.01):\n",
    "        self.gamma = gamma\n",
    "        self.learning_rate = learning_rate\n",
    "        self.epsilon = epsilon\n",
    "        self.action_n = env.action_space.n\n",
    "        self.q0 = np.zeros((env.observation_space.n, env.action_space.n))\n",
    "        self.q1 = np.zeros((env.observation_space.n, env.action_space.n))\n",
    "        \n",
    "    def decide(self, state):\n",
    "        if np.random.uniform() > self.epsilon:\n",
    "            action = (self.q0 + self.q1)[state].argmax()\n",
    "        else:\n",
    "            action = np.random.randint(self.action_n)\n",
    "        return action\n",
    "    \n",
    "    def learn(self, state, action, reward, next_state, done):\n",
    "        if np.random.randint(2):\n",
    "            self.q0, self.q1 = self.q1, self.q0\n",
    "        a = self.q0[next_state].argmax()\n",
    "        u = reward + self.gamma * self.q1[next_state, a] * (1. - done)\n",
    "        td_error = u - self.q0[state, action]\n",
    "        self.q0[state, action] += self.learning_rate * td_error"
   ]
  },
  {
   "cell_type": "code",
   "execution_count": 48,
   "metadata": {},
   "outputs": [
    {
     "data": {
      "text/plain": [
       "[<matplotlib.lines.Line2D at 0x7f99383b4c88>]"
      ]
     },
     "execution_count": 48,
     "metadata": {},
     "output_type": "execute_result"
    },
    {
     "data": {
      "image/png": "[encoded data removed]",
      "text/plain": [
       "<Figure size 432x288 with 1 Axes>"
      ]
     },
     "metadata": {
      "needs_background": "light"
     },
     "output_type": "display_data"
    }
   ],
   "source": [
    "agent=DoubleQLearningAgent(env)\n",
    "\n",
    "episodes = 5000\n",
    "episode_rewards = []\n",
    "for episode in range(episodes):\n",
    "    episode_reward = play_qlearning(env, agent, train=True)\n",
    "    episode_rewards.append(episode_reward)\n",
    "    \n",
    "plt.plot(episode_rewards)"
   ]
  },
  {
   "cell_type": "code",
   "execution_count": 53,
   "metadata": {},
   "outputs": [],
   "source": [
    "class SARSALambdaAgent(SARSAAgent):\n",
    "    def __init__(self,env,lambd=0.9,beta=1.,gamma=0.9,learning_rate=0.1,epsilon=.01):\n",
    "        super().__init__(env,gamma=gamma,learning_rate=learning_rate,epsilon=epsilon)\n",
    "        self.lambd=lambd\n",
    "        self.beta=beta\n",
    "        self.e=np.zeros((env.observation_space.n,env.action_space.n))\n",
    "        \n",
    "    def learn(self,state,action,reward,next_state,done,next_action):\n",
    "        self.e*=(self.lambd*self.gamma)\n",
    "        self.e[state,action]=1.+self.beta*self.e[state,action]\n",
    "        \n",
    "        u=reward+self.gamma*self.q[next_state,next_action]*(1-done)\n",
    "        td_error=u-self.q[state,action]\n",
    "        self.q[state,action]+=self.learning_rate*self.e[state,action]*td_error"
   ]
  },
  {
   "cell_type": "code",
   "execution_count": 54,
   "metadata": {},
   "outputs": [
    {
     "data": {
      "text/plain": [
       "[<matplotlib.lines.Line2D at 0x7f9937291ac8>]"
      ]
     },
     "execution_count": 54,
     "metadata": {},
     "output_type": "execute_result"
    },
    {
     "data": {
      "image/png": "[encoded data removed]",
      "text/plain": [
       "<Figure size 432x288 with 1 Axes>"
      ]
     },
     "metadata": {
      "needs_background": "light"
     },
     "output_type": "display_data"
    }
   ],
   "source": [
    "agent=SARSALambdaAgent(env)\n",
    "\n",
    "episodes = 5000\n",
    "episode_rewards = []\n",
    "for episode in range(episodes):\n",
    "    episode_reward = play_sarsa(env, agent, train=True)\n",
    "    episode_rewards.append(episode_reward)\n",
    "    \n",
    "plt.plot(episode_rewards)"
   ]
  },
  {
   "cell_type": "markdown",
   "metadata": {},
   "source": [
    "### 函数近似方法"
   ]
  },
  {
   "cell_type": "code",
   "execution_count": 2,
   "metadata": {},
   "outputs": [],
   "source": [
    "import numpy as np\n",
    "np.random.seed(0)\n",
    "import pandas as pd\n",
    "import matplotlib.pyplot as plt\n",
    "import gym\n",
    "import tensorflow.compat.v2 as tf\n",
    "tf.random.set_seed(0)\n",
    "from tensorflow import keras"
   ]
  },
  {
   "cell_type": "code",
   "execution_count": 4,
   "metadata": {},
   "outputs": [
    {
     "name": "stdout",
     "output_type": "stream",
     "text": [
      "观测空间=Box(2,)\n",
      "动作空间=Discrete(3)\n",
      "位置范围=(-1.2, 0.6)\n",
      "速度范围=(-0.07, 0.07)\n",
      "目标位置=0.5\n"
     ]
    }
   ],
   "source": [
    "env=gym.make('MountainCar-v0')\n",
    "env.seed(0)\n",
    "print('观测空间={}'.format(env.observation_space))\n",
    "print('动作空间={}'.format(env.action_space))\n",
    "print('位置范围={}'.format((env.unwrapped.min_position,env.unwrapped.max_position)))\n",
    "print('速度范围={}'.format((-env.unwrapped.max_speed,env.unwrapped.max_speed)))\n",
    "print('目标位置={}'.format(env.unwrapped.goal_position))"
   ]
  },
  {
   "cell_type": "code",
   "execution_count": 5,
   "metadata": {},
   "outputs": [
    {
     "name": "stdout",
     "output_type": "stream",
     "text": [
      "失败退出\n"
     ]
    },
    {
     "data": {
      "text/plain": [
       "<matplotlib.legend.Legend at 0x7f26fb1dac50>"
      ]
     },
     "execution_count": 5,
     "metadata": {},
     "output_type": "execute_result"
    },
    {
     "data": {
      "image/png": "[encoded data removed]",
      "text/plain": [
       "<Figure size 432x288 with 1 Axes>"
      ]
     },
     "metadata": {
      "needs_background": "light"
     },
     "output_type": "display_data"
    }
   ],
   "source": [
    "positions,velocities=[],[]\n",
    "observation=env.reset()\n",
    "while True:\n",
    "    positions.append(observation[0])\n",
    "    velocities.append(observation[1])\n",
    "    next_observation,reward,done,_=env.step(2)\n",
    "    if done:\n",
    "        break\n",
    "    observation=next_observation\n",
    "    \n",
    "if next_observation[0]>0.5:\n",
    "    print('成功到达')\n",
    "else:\n",
    "    print('失败退出')\n",
    "    \n",
    "fig,ax=plt.subplots()\n",
    "ax.plot(positions,label='position')\n",
    "ax.plot(velocities,label='velocity')\n",
    "ax.legend()"
   ]
  },
  {
   "cell_type": "code",
   "execution_count": 18,
   "metadata": {},
   "outputs": [],
   "source": [
    "class DQNReplayer:\n",
    "    def __init__(self,capacity):\n",
    "        self.memory=pd.DataFrame(index=range(capacity),columns=['observation','action','reward','next_observation','done'])\n",
    "        self.i=0\n",
    "        self.count=0\n",
    "        self.capacity=capacity\n",
    "        \n",
    "    def store(self,*args):\n",
    "        self.memory.loc[self.i]=args\n",
    "        self.i=(self.i+1)%self.capacity\n",
    "        self.count=min(self.count+1,self.capacity)\n",
    "        \n",
    "    def sample(self,size):\n",
    "        indices=np.random.choice(self.count,size=size)\n",
    "        return (np.stack(self.memory.loc[indices,field]) for field in self.memory.columns)"
   ]
  },
  {
   "cell_type": "code",
   "execution_count": 22,
   "metadata": {},
   "outputs": [],
   "source": [
    "class DQNAgent:\n",
    "    def __init__(self,env,net_kwargs={},gamma=0.99,epsilon=.001,replayer_capacity=10000,batch_size=64):\n",
    "        observation_dim=env.observation_space.shape[0]\n",
    "        self.action_n=env.action_space.n\n",
    "        self.gamma=gamma\n",
    "        self.epsilon=epsilon\n",
    "        \n",
    "        self.batch_size=batch_size\n",
    "        self.replayer=DQNReplayer(replayer_capacity)\n",
    "        \n",
    "        self.evaluate_net=self.build_network(input_size=observation_dim,output_size=self.action_n,**net_kwargs)\n",
    "        self.target_net=self.build_network(input_size=observation_dim,output_size=self.action_n,**net_kwargs)\n",
    "        \n",
    "        self.target_net.set_weights(self.evaluate_net.get_weights())\n",
    "        \n",
    "    def build_network(self,input_size,hidden_sizes,output_size,activation=tf.nn.relu,output_activation=None,learning_rate=0.01):\n",
    "        model=keras.Sequential()\n",
    "        for layer,hidden_size in enumerate(hidden_sizes):\n",
    "            kwargs=dict(input_shape=(input_size,)) if not layer else {}\n",
    "            model.add(keras.layers.Dense(units=hidden_size,activation=activation,**kwargs))\n",
    "        model.add(keras.layers.Dense(units=output_size,activation=output_activation))\n",
    "        optimizer=tf.optimizers.Adam(lr=learning_rate)\n",
    "        model.compile(loss='mse',optimizer=optimizer)\n",
    "        return model\n",
    "    \n",
    "    def learn(self,observation,action,reward,next_observation,done):\n",
    "        self.replayer.store(observation,action,reward,next_observation,done)\n",
    "        \n",
    "        observations,actions,rewards,next_observations,dones=self.replayer.sample(self.batch_size)\n",
    "        \n",
    "        next_qs=self.target_net.predict(next_observations)\n",
    "        next_max_qs=next_qs.max(axis=-1)\n",
    "        us=rewards+self.gamma*(1-dones)*next_max_qs\n",
    "        targets=self.evaluate_net.predict(observations)\n",
    "        targets[np.arange(us.shape[0]),actions]=us\n",
    "        self.evaluate_net.fit(observations,targets,verbose=0)\n",
    "        \n",
    "        if done:\n",
    "            self.target_net.set_weights(self.evaluate_net.get_weights())\n",
    "            \n",
    "    def decide(self,observation):\n",
    "        if np.random.rand()<self.epsilon:\n",
    "            return np.random.randint(self.action_n)\n",
    "        qs=self.evaluate_net.predict(observation[np.newaxis])\n",
    "        return np.argmax(qs)    \n",
    "    \n",
    "    "
   ]
  },
  {
   "cell_type": "code",
   "execution_count": 23,
   "metadata": {},
   "outputs": [],
   "source": [
    "def play_qlearning(env,agent,train=False,render=False):\n",
    "    episode_reward=0\n",
    "    observation=env.reset()\n",
    "    while True:\n",
    "        if render:\n",
    "            env.render()\n",
    "        action=agent.decide(observation)\n",
    "        next_observation,reward,done,_=env.step(action)\n",
    "        episode_reward+=reward\n",
    "        if train:\n",
    "            agent.learn(observation,action,reward,next_observation,done)\n",
    "        if done:\n",
    "            break\n",
    "        observation=next_observation\n",
    "    return episode_reward"
   ]
  },
  {
   "cell_type": "code",
   "execution_count": 24,
   "metadata": {},
   "outputs": [
    {
     "data": {
      "text/plain": [
       "[<matplotlib.lines.Line2D at 0x7f26c0303ef0>]"
      ]
     },
     "execution_count": 24,
     "metadata": {},
     "output_type": "execute_result"
    },
    {
     "data": {
      "image/png": "[encoded data removed]",
      "text/plain": [
       "<Figure size 432x288 with 1 Axes>"
      ]
     },
     "metadata": {
      "needs_background": "light"
     },
     "output_type": "display_data"
    }
   ],
   "source": [
    "net_kwargs = {'hidden_sizes' : [16,], 'learning_rate' : 0.01}\n",
    "agent = DQNAgent(env, net_kwargs=net_kwargs)\n",
    "\n",
    "episodes = 500\n",
    "episode_rewards = []\n",
    "for episode in range(episodes):\n",
    "    episode_reward = play_qlearning(env, agent, train=True)\n",
    "    episode_rewards.append(episode_reward)\n",
    "plt.plot(episode_rewards)"
   ]
  },
  {
   "cell_type": "code",
   "execution_count": 27,
   "metadata": {},
   "outputs": [],
   "source": [
    "class DoubleDQNAgent(DQNAgent):\n",
    "    def learn(self,observation,action,reward,next_observation,done):\n",
    "        self.replayer.store(observation,action,reward,next_observation,done)\n",
    "        observations,actions,rewards,next_observations,dones=self.replayer.sample(self.batch_size)\n",
    "        next_eval_qs=self.evaluate_net.predict(next_observations)\n",
    "        next_actions=next_eval_qs.argmax(axis=-1)\n",
    "        next_qs=self.target_net.predict(next_observations)\n",
    "        next_max_qs=next_qs[np.arange(next_qs.shape[0]),next_actions]\n",
    "        us=rewards+self.gamma*next_max_qs*(1-dones)\n",
    "        targets=self.evaluate_net.predict(observations)\n",
    "        targets[np.arange(us.shape[0]),actions]=us\n",
    "        self.evaluate_net.fit(observations,targets,verbose=0)\n",
    "        \n",
    "        if done:\n",
    "            self.target_net.set_weights(self.evaluate_net.get_weights())"
   ]
  },
  {
   "cell_type": "code",
   "execution_count": 30,
   "metadata": {},
   "outputs": [],
   "source": [
    "net_kwargs = {'hidden_sizes' : [16,], 'learning_rate' : 0.004}\n",
    "agent = DoubleDQNAgent(env, net_kwargs=net_kwargs)\n",
    "\n",
    "episodes = 200\n",
    "episode_rewards = []\n",
    "for episode in range(episodes):\n",
    "    episode_reward = play_qlearning(env, agent, train=True,render=True)\n",
    "    episode_rewards.append(episode_reward)\n",
    "plt.plot(episode_rewards)"
   ]
  },
  {
   "cell_type": "markdown",
   "metadata": {},
   "source": [
    "### 回合更新策略梯度法"
   ]
  },
  {
   "cell_type": "code",
   "execution_count": 2,
   "metadata": {},
   "outputs": [],
   "source": [
    "import numpy as np\n",
    "np.random.seed(0)\n",
    "import pandas as pd\n",
    "import matplotlib.pyplot as plt\n",
    "import gym\n",
    "import tensorflow.compat.v2 as tf\n",
    "tf.random.set_seed(0)\n",
    "from tensorflow import keras"
   ]
  },
  {
   "cell_type": "code",
   "execution_count": 3,
   "metadata": {},
   "outputs": [
    {
     "data": {
      "text/plain": [
       "[0]"
      ]
     },
     "execution_count": 3,
     "metadata": {},
     "output_type": "execute_result"
    }
   ],
   "source": [
    "env=gym.make('CartPole-v0')\n",
    "env.seed(0)"
   ]
  },
  {
   "cell_type": "code",
   "execution_count": 14,
   "metadata": {},
   "outputs": [],
   "source": [
    "class VPGAgent:\n",
    "    def __init__(self,env,policy_kwargs,baseline_kwargs=None,gamma=0.99):\n",
    "        self.action_n=env.action_space.n\n",
    "        self.gamma=gamma\n",
    "        \n",
    "        self.trajectory=[]\n",
    "        \n",
    "        self.policy_net=self.build_network(output_size=self.action_n,output_activation=tf.nn.softmax,loss=tf.losses.categorical_crossentropy,**policy_kwargs)\n",
    "        \n",
    "        if baseline_kwargs:\n",
    "            self.baseline_net=self.build_network(output_size=1,**baseline_kwargs)\n",
    "        \n",
    "    def build_network(self,hidden_sizes,output_size,activation=tf.nn.relu,output_activation=None,loss=tf.losses.mse,learning_rate=0.01):\n",
    "        model=keras.Sequential()\n",
    "        for hidden_size in hidden_sizes:\n",
    "            model.add(keras.layers.Dense(units=hidden_size,activation=activation))\n",
    "        model.add(keras.layers.Dense(units=output_size,activation=output_activation))\n",
    "        optimizer=tf.optimizers.Adam(learning_rate)\n",
    "        model.compile(optimizer=optimizer,loss=loss)\n",
    "        return model\n",
    "    \n",
    "    def decide(self,observation):\n",
    "        probs=self.policy_net.predict(observation[np.newaxis])[0]\n",
    "        action=np.random.choice(self.action_n,p=probs)\n",
    "        return action\n",
    "    \n",
    "    def learn(self,observation,action,reward,done):\n",
    "        self.trajectory.append((observation,action,reward))\n",
    "        \n",
    "        if done:\n",
    "            df=pd.DataFrame(self.trajectory,columns=['observation','action','reward'])\n",
    "            df['discount']=self.gamma**df.index.to_series()\n",
    "            df['discount_reward']=df['discount']*df['reward']\n",
    "            df['discount_return']=df['discount_reward'][::-1].cumsum()\n",
    "            df['psi']=df['discount_return']\n",
    "            \n",
    "            x=np.stack(df['observation'])\n",
    "            if hasattr(self,'baseline_net'):\n",
    "                df['baseline']=self.baseline_net.predict(x)\n",
    "                df['psi']-=(df['baseline']*df['discount'])\n",
    "                df['return']=df['discount_return']/df['discount']\n",
    "                y=df['return'].values[:,np.newaxis]\n",
    "                self.baseline_net.fit(x,y,verbose=0)\n",
    "                \n",
    "            y=np.eye(self.action_n)[df['action']]*df['psi'].values[:,np.newaxis]\n",
    "            self.policy_net.fit(x,y,verbose=0)\n",
    "            \n",
    "            self.trajectory=[]"
   ]
  },
  {
   "cell_type": "code",
   "execution_count": 15,
   "metadata": {},
   "outputs": [],
   "source": [
    "def play_montecarlo(env,agent,render=False,train=False):\n",
    "    observation=env.reset()\n",
    "    episode_reward=0\n",
    "    while True:\n",
    "        if render:\n",
    "            env.render()\n",
    "        action=agent.decide(observation)\n",
    "        next_observation,reward,done,_=env.step(action)\n",
    "        episode_reward+=reward\n",
    "        if train:\n",
    "            agent.learn(observation,action,reward,done)\n",
    "        if done:\n",
    "            break\n",
    "        observation=next_observation\n",
    "    return episode_reward"
   ]
  },
  {
   "cell_type": "code",
   "execution_count": 16,
   "metadata": {},
   "outputs": [
    {
     "data": {
      "text/plain": [
       "[<matplotlib.lines.Line2D at 0x7fb42025dcf8>]"
      ]
     },
     "execution_count": 16,
     "metadata": {},
     "output_type": "execute_result"
    },
    {
     "data": {
      "image/png": "[encoded data removed]",
      "text/plain": [
       "<Figure size 432x288 with 1 Axes>"
      ]
     },
     "metadata": {
      "needs_background": "light"
     },
     "output_type": "display_data"
    }
   ],
   "source": [
    "policy_kwargs = {'hidden_sizes' : [10,], 'activation' : tf.nn.relu,'learning_rate' : 0.008}\n",
    "agent = VPGAgent(env, policy_kwargs=policy_kwargs)\n",
    "episodes=500\n",
    "episode_rewards = []\n",
    "for episode in range(episodes):\n",
    "    episode_reward = play_montecarlo(env, agent, train=True)\n",
    "    episode_rewards.append(episode_reward)\n",
    "plt.plot(episode_rewards)"
   ]
  },
  {
   "cell_type": "code",
   "execution_count": 17,
   "metadata": {},
   "outputs": [
    {
     "data": {
      "text/plain": [
       "[<matplotlib.lines.Line2D at 0x7fb3f8211fd0>]"
      ]
     },
     "execution_count": 17,
     "metadata": {},
     "output_type": "execute_result"
    },
    {
     "data": {
      "image/png": "[encoded data removed]",
      "text/plain": [
       "<Figure size 432x288 with 1 Axes>"
      ]
     },
     "metadata": {
      "needs_background": "light"
     },
     "output_type": "display_data"
    }
   ],
   "source": [
    "policy_kwargs = {'hidden_sizes' : [10,], 'activation':tf.nn.relu,  'learning_rate':0.008}\n",
    "baseline_kwargs = {'hidden_sizes' : [10,], 'activation':tf.nn.relu, 'learning_rate':0.008}\n",
    "agent = VPGAgent(env, policy_kwargs=policy_kwargs,baseline_kwargs=baseline_kwargs)\n",
    "\n",
    "episodes = 500\n",
    "episode_rewards = []\n",
    "for episode in range(episodes):\n",
    "    episode_reward = play_montecarlo(env, agent, train=True)\n",
    "    episode_rewards.append(episode_reward)\n",
    "plt.plot(episode_rewards)"
   ]
  },
  {
   "cell_type": "code",
   "execution_count": 22,
   "metadata": {},
   "outputs": [],
   "source": [
    "class RandomAgent:\n",
    "    def __init__(self,env):\n",
    "        self.action_n=env.action_space.n\n",
    "        \n",
    "    def decide(self,observation):\n",
    "        action=np.random.choice(self.action_n)\n",
    "        behavior=1./self.action_n\n",
    "        return action,behavior\n",
    "    \n",
    "class OffPolicyVPGAgent(VPGAgent):\n",
    "    def __init__(self,env,policy_kwargs,baseline_kwargs=None,gamma=0.99):\n",
    "        self.action_n=env.action_space.n\n",
    "        self.gamma=gamma\n",
    "        \n",
    "        self.trajectory=[]\n",
    "        def dot(y_true,y_pred):\n",
    "            return -tf.reduce_sum(y_true*y_pred,axis=-1)\n",
    "        \n",
    "        self.policy_net=self.build_network(output_size=self.action_n,output_activation=tf.nn.softmax,loss=dot,**policy_kwargs)\n",
    "        if baseline_kwargs:\n",
    "            self.baseline_net=self.build_network(output_size=1,**baseline_kwargs)\n",
    "            \n",
    "    def learn(self,observation,action,behavior,reward,done):\n",
    "        self.trajectory.append((observation,action,behavior,reward))\n",
    "        \n",
    "        if done:\n",
    "            df=pd.DataFrame(self.trajectory,columns=['observation','action','behavior','reward'])\n",
    "            df['discount']=self.gamma**df.index.to_series()\n",
    "            df['discounted_reward']=df['discount']*df['reward']\n",
    "            df['discounted_return']=df['discounted_reward'][::-1].cumsum()\n",
    "            df['psi']=df['discounted_return']\n",
    "            \n",
    "            x=np.stack(df['observation'])\n",
    "            if hasattr(self,'baseline_net'):\n",
    "                df['baseline']=self.baseline_net.predict(x)\n",
    "                df['psi'] -= df['baseline'] * df['discount']\n",
    "                df['return'] = df['discounted_return'] / df['discount']\n",
    "                y = df['return'].values[:, np.newaxis]\n",
    "                self.baseline_net.fit(x, y, verbose=0)\n",
    "                \n",
    "            y=np.eye(self.action_n)[df['action']]*(df['psi']/df['behavior']).values[:,np.newaxis]\n",
    "            self.policy_net.fit(x,y,verbose=0)\n",
    "            \n",
    "            self.trajectory=[]"
   ]
  },
  {
   "cell_type": "code",
   "execution_count": 23,
   "metadata": {},
   "outputs": [
    {
     "data": {
      "text/plain": [
       "[<matplotlib.lines.Line2D at 0x7fb39ff42d68>]"
      ]
     },
     "execution_count": 23,
     "metadata": {},
     "output_type": "execute_result"
    },
    {
     "data": {
      "image/png": "[encoded data removed]",
      "text/plain": [
       "<Figure size 432x288 with 1 Axes>"
      ]
     },
     "metadata": {
      "needs_background": "light"
     },
     "output_type": "display_data"
    }
   ],
   "source": [
    "policy_kwargs = {'hidden_sizes' : [10,], 'activation':tf.nn.relu, 'learning_rate':0.02}\n",
    "agent = OffPolicyVPGAgent(env, policy_kwargs=policy_kwargs)\n",
    "behavior_agent = RandomAgent(env)\n",
    "\n",
    "episodes=1000\n",
    "episode_rewards=[]\n",
    "for episode in range(episodes):\n",
    "    observation=env.reset()\n",
    "    episode_reward=0.\n",
    "    while True:\n",
    "        action,behavior=behavior_agent.decide(observation)\n",
    "        next_observation,reward,done,_=env.step(action)\n",
    "        episode_reward+=reward\n",
    "        agent.learn(observation,action,behavior,reward,done)\n",
    "        if done:\n",
    "            break\n",
    "        observation=next_observation\n",
    "        \n",
    "    episode_reward = play_montecarlo(env, agent, train=False)\n",
    "    episode_rewards.append(episode_reward)\n",
    "        \n",
    "plt.plot(episode_rewards)   "
   ]
  },
  {
   "cell_type": "code",
   "execution_count": 25,
   "metadata": {},
   "outputs": [
    {
     "data": {
      "image/png": "[encoded data removed]",
      "text/plain": [
       "<Figure size 432x288 with 1 Axes>"
      ]
     },
     "metadata": {
      "needs_background": "light"
     },
     "output_type": "display_data"
    }
   ],
   "source": [
    "policy_kwargs = {'hidden_sizes' : [10,], 'activation':tf.nn.relu, 'learning_rate':0.02}\n",
    "baseline_kwargs = {'hidden_sizes' : [10,], 'activation':tf.nn.relu,'learning_rate':0.03}\n",
    "agent = OffPolicyVPGAgent(env, policy_kwargs=policy_kwargs,baseline_kwargs=baseline_kwargs)\n",
    "behavior_agent = RandomAgent(env)\n",
    "\n",
    "episodes = 800\n",
    "episode_rewards = []\n",
    "for episode in range(episodes):\n",
    "    observation = env.reset()\n",
    "    episode_reward = 0.\n",
    "    while True:\n",
    "        env.render()\n",
    "        action, behavior = behavior_agent.decide(observation)\n",
    "        next_observation, reward, done, _ = env.step(action)\n",
    "        episode_reward += reward\n",
    "        agent.learn(observation, action, behavior, reward, done)\n",
    "        if done:\n",
    "            break\n",
    "        observation = next_observation\n",
    "    \n",
    "    episode_reward = play_montecarlo(env, agent, train=False)\n",
    "    episode_rewards.append(episode_reward)\n",
    "\n",
    "plt.plot(episode_rewards)\n",
    "env.close()"
   ]
  },
  {
   "cell_type": "markdown",
   "metadata": {},
   "source": [
    "### 演员/评论家"
   ]
  },
  {
   "cell_type": "code",
   "execution_count": 1,
   "metadata": {},
   "outputs": [],
   "source": [
    "import numpy as np\n",
    "np.random.seed(0)\n",
    "import pandas as pd\n",
    "import scipy\n",
    "import matplotlib.pyplot as plt\n",
    "import gym\n",
    "import tensorflow.compat.v2 as tf\n",
    "tf.random.set_seed(0)\n",
    "from tensorflow import keras"
   ]
  },
  {
   "cell_type": "code",
   "execution_count": 2,
   "metadata": {},
   "outputs": [
    {
     "data": {
      "text/plain": [
       "[0]"
      ]
     },
     "execution_count": 2,
     "metadata": {},
     "output_type": "execute_result"
    }
   ],
   "source": [
    "env=gym.make('Acrobot-v1')\n",
    "env.seed(0)"
   ]
  },
  {
   "cell_type": "code",
   "execution_count": 3,
   "metadata": {},
   "outputs": [],
   "source": [
    "class QActorCriticAgent:\n",
    "    def __init__(self,env,actor_kwargs,critic_kwargs,gamma=0.99):\n",
    "        self.action_n=env.action_space.n\n",
    "        self.gamma=gamma\n",
    "        self.discount=1\n",
    "        \n",
    "        self.actor_net=self.build_network(output_size=self.action_n,output_activation=tf.nn.softmax,loss=tf.losses.categorical_crossentropy,**actor_kwargs)\n",
    "        self.critic_net=self.build_network(output_size=self.action_n,**critic_kwargs)\n",
    "        \n",
    "    def build_network(self,hidden_sizes,output_size,input_size=None,activation=tf.nn.relu,output_activation=None,loss=tf.losses.mse,learning_rate=0.01):\n",
    "        model=keras.Sequential()\n",
    "        for idx,hidden_size in enumerate(hidden_sizes):\n",
    "            kwargs={}\n",
    "            if idx==0 and input_size is not None:\n",
    "                kwargs['input_shape']=(input_size,)\n",
    "            model.add(keras.layers.Dense(units=hidden_size,activation=activation,**kwargs))\n",
    "        model.add(keras.layers.Dense(units=output_size,activation=output_activation))\n",
    "        optimizer=tf.optimizers.Adam(learning_rate)\n",
    "        model.compile(optimizer=optimizer,loss=loss)\n",
    "        return model\n",
    "    \n",
    "    def decide(self,observation):\n",
    "        probs=self.actor_net.predict(observation[np.newaxis])[0]\n",
    "        action=np.random.choice(self.action_n,p=probs)\n",
    "        return action\n",
    "    \n",
    "    def learn(self,observation,action,reward,next_observation,done):\n",
    "        x=observation[np.newaxis]\n",
    "        u=self.critic_net.predict(x)\n",
    "        q=u[0,action]\n",
    "        x_tensor=tf.convert_to_tensor(x,dtype=tf.float32)\n",
    "        with tf.GradientTape() as tape:\n",
    "            pi_tensor=self.actor_net(x_tensor)[0,action]\n",
    "            logpi_tensor=tf.math.log(tf.clip_by_value(pi_tensor,1e-6,1.))\n",
    "            loss_tensor=-self.discount*q*logpi_tensor\n",
    "        grad_tensors=tape.gradient(loss_tensor,self.actor_net.variables)\n",
    "        self.actor_net.optimizer.apply_gradients(zip(grad_tensors,self.actor_net.variables))\n",
    "        \n",
    "        q=self.critic_net.predict(next_observation[np.newaxis])[0,action]\n",
    "        u[0,action]=reward+(1-done)*self.gamma*q\n",
    "        self.critic_net.fit(x,u,verbose=0)\n",
    "        \n",
    "        if done:\n",
    "            self.discount=1\n",
    "        else:\n",
    "            self.discount+=self.gamma"
   ]
  },
  {
   "cell_type": "code",
   "execution_count": 4,
   "metadata": {},
   "outputs": [],
   "source": [
    "def play_qlearning(env,agent,train=False,render=False):\n",
    "    episode_reward=0\n",
    "    observation=env.reset()\n",
    "    step=0\n",
    "    while True:\n",
    "        if render:\n",
    "            env.render()\n",
    "        action=agent.decide(observation)\n",
    "        next_observation,reward,done,_=env.step(action)\n",
    "        episode_reward+=reward\n",
    "        if train:\n",
    "            agent.learn(observation,action,reward,next_observation,done)\n",
    "        if done:\n",
    "            break\n",
    "        step+=1\n",
    "        observation=next_observation\n",
    "    return episode_reward"
   ]
  },
  {
   "cell_type": "code",
   "execution_count": 5,
   "metadata": {},
   "outputs": [
    {
     "name": "stderr",
     "output_type": "stream",
     "text": [
      "WARNING: Logging before flag parsing goes to stderr.\n",
      "W0911 12:57:25.738471 140473293002496 deprecation.py:323] From /home/gengdd/anaconda3/lib/python3.7/site-packages/tensorflow/python/ops/math_grad.py:1220: add_dispatch_support.<locals>.wrapper (from tensorflow.python.ops.array_ops) is deprecated and will be removed in a future version.\n",
      "Instructions for updating:\n",
      "Use tf.where in 2.0, which has the same broadcast rule as np.where\n"
     ]
    },
    {
     "data": {
      "text/plain": [
       "[<matplotlib.lines.Line2D at 0x7fc208460278>]"
      ]
     },
     "execution_count": 5,
     "metadata": {},
     "output_type": "execute_result"
    },
    {
     "data": {
      "image/png": "[encoded data removed]",
      "text/plain": [
       "<Figure size 432x288 with 1 Axes>"
      ]
     },
     "metadata": {
      "needs_background": "light"
     },
     "output_type": "display_data"
    }
   ],
   "source": [
    "actor_kwargs = {'hidden_sizes' : [100,], 'learning_rate' : 0.0005}\n",
    "critic_kwargs = {'hidden_sizes' : [100,], 'learning_rate' : 0.0005}\n",
    "agent = QActorCriticAgent(env, actor_kwargs=actor_kwargs,critic_kwargs=critic_kwargs)\n",
    "\n",
    "episodes = 100\n",
    "episode_rewards = []\n",
    "for episode in range(episodes):\n",
    "    episode_reward = play_qlearning(env, agent, train=True)\n",
    "    episode_rewards.append(episode_reward)\n",
    "plt.plot(episode_rewards)"
   ]
  },
  {
   "cell_type": "code",
   "execution_count": 6,
   "metadata": {},
   "outputs": [],
   "source": [
    "class AdvantageActorCriticAgent(QActorCriticAgent):\n",
    "    def __init__(self,env,actor_kwargs,critic_kwargs,gamma=0.99):\n",
    "        self.action_n=env.action_space.n\n",
    "        self.gamma=gamma\n",
    "        self.discount=1.\n",
    "        \n",
    "        self.actor_net=self.build_network(output_size=self.action_n,output_activation=tf.nn.softmax,loss=tf.losses.categorical_crossentropy,**actor_kwargs)\n",
    "        self.critic_net=self.build_network(output_size=1,**critic_kwargs)\n",
    "        \n",
    "    def learn(self,observation,action,reward,next_observation,done):\n",
    "        x=observation[np.newaxis]\n",
    "        u=reward+(1-done)*self.gamma*self.critic_net.predict(next_observation[np.newaxis])\n",
    "        td_error=u-self.critic_net.predict(x)\n",
    "        y=self.discount*td_error*np.eye(self.action_n)[np.newaxis,action]\n",
    "        self.actor_net.fit(x,y,verbose=0)\n",
    "        self.critic_net.fit(x,u,verbose=0)\n",
    "        \n",
    "        if done:\n",
    "            self.discount=1.\n",
    "        else:\n",
    "            self.discount*=self.gamma"
   ]
  },
  {
   "cell_type": "code",
   "execution_count": 7,
   "metadata": {},
   "outputs": [
    {
     "data": {
      "text/plain": [
       "[<matplotlib.lines.Line2D at 0x7fc2284024a8>]"
      ]
     },
     "execution_count": 7,
     "metadata": {},
     "output_type": "execute_result"
    },
    {
     "data": {
      "image/png": "[encoded data removed]",
      "text/plain": [
       "<Figure size 432x288 with 1 Axes>"
      ]
     },
     "metadata": {
      "needs_background": "light"
     },
     "output_type": "display_data"
    }
   ],
   "source": [
    "actor_kwargs = {'hidden_sizes' : [100,], 'learning_rate' : 0.0001}\n",
    "critic_kwargs = {'hidden_sizes' : [100,], 'learning_rate' : 0.0002}\n",
    "agent = AdvantageActorCriticAgent(env, actor_kwargs=actor_kwargs,critic_kwargs=critic_kwargs)\n",
    "\n",
    "episodes = 100\n",
    "episode_rewards = []\n",
    "for episode in range(episodes):\n",
    "    episode_reward = play_qlearning(env, agent, train=True)\n",
    "    episode_rewards.append(episode_reward)\n",
    "plt.plot(episode_rewards)"
   ]
  },
  {
   "cell_type": "code",
   "execution_count": 8,
   "metadata": {},
   "outputs": [],
   "source": [
    "class ElibilityTraceActorCriticAgent(QActorCriticAgent):\n",
    "    def __init__(self,env,actor_kwargs,critic_kwargs,gamma=0.99,actor_lambda=0.9,critic_lambda=0.9):\n",
    "        observation_dim=env.observation_space.shape[0]\n",
    "        self.action_n=env.action_space.n\n",
    "        self.actor_lambda=actor_lambda\n",
    "        self.critic_lambda=critic_lambda\n",
    "        self.gamma=gamma\n",
    "        self.discount=1.\n",
    "        \n",
    "        self.actor_net=self.build_network(input_size=observation_dim,output_size=self.action_n,output_activation=tf.nn.softmax,**actor_kwargs)\n",
    "        self.critic_net=self.build_network(input_size=observation_dim,output_size=1,**critic_kwargs)\n",
    "        self.actor_traces=[np.zeros_like(weight) for weight in self.actor_net.get_weights()]\n",
    "        self.critic_traces=[np.zeros_like(weight) for weight in self.critic_net.get_weights()]\n",
    "        \n",
    "    def learn(self,observation,action,reward,next_observation,done):\n",
    "        q=self.critic_net.predict(observation[np.newaxis])[0,0]\n",
    "        u=reward+(1-done)*self.gamma*self.critic_net.predict(next_observation[np.newaxis])[0,0]\n",
    "        td_error=u-q\n",
    "        \n",
    "        x_tensor=tf.convert_to_tensor(observation[np.newaxis],dtype=tf.float32)\n",
    "        with tf.GradientTape() as tape:\n",
    "            pi_tensor=self.actor_net(x_tensor)\n",
    "            logpi_tensor=tf.math.log(tf.clip_by_value(pi_tensor,1e-6,1.))\n",
    "            logpi_pick_tensor=logpi_tensor[0,action]\n",
    "            \n",
    "        grad_tensors=tape.gradient(logpi_pick_tensor,self.actor_net.variables)\n",
    "        self.actor_traces=[self.gamma*self.actor_lambda*trace+self.discount*grad.numpy() for trace,grad in zip(self.actor_traces,grad_tensors)]\n",
    "        actor_grads=[tf.convert_to_tensor(-td_error*trace,dtype=tf.float32) for trace in self.actor_traces]\n",
    "        actor_grads_and_vars=tuple(zip(actor_grads,self.actor_net.variables))\n",
    "        self.actor_net.optimizer.apply_gradients(actor_grads_and_vars)\n",
    "        \n",
    "        with tf.GradientTape() as tape:\n",
    "            v_tensor=self.critic_net(x_tensor)\n",
    "        grad_tensor=tape.gradient(v_tensor,self.critic_net.variables)\n",
    "        self.critic_traces=[self.gamma*self.critic_lambda*trace+self.discount*grad.numpy() for trace,grad in zip(self.critic_traces,grad_tensor)]\n",
    "        critic_grads=[tf.convert_to_tensor(-td_error*trace,dtype=tf.float32) for trace in self.critic_traces]\n",
    "        critic_grads_and_vars=tuple(zip(critic_grads,self.critic_net.variables))\n",
    "        self.critic_net.optimizer.apply_gradients(critic_grads_and_vars)\n",
    "        \n",
    "        if done:\n",
    "            self.actor_traces = [np.zeros_like(weight) for weight in self.actor_net.get_weights()]\n",
    "            self.critic_traces = [np.zeros_like(weight) for weight in self.critic_net.get_weights()]\n",
    "            self.discount=1.\n",
    "        else:\n",
    "            self.discount*=self.gamma"
   ]
  },
  {
   "cell_type": "code",
   "execution_count": 9,
   "metadata": {},
   "outputs": [
    {
     "data": {
      "image/png": "[encoded data removed]",
      "text/plain": [
       "<Figure size 432x288 with 1 Axes>"
      ]
     },
     "metadata": {
      "needs_background": "light"
     },
     "output_type": "display_data"
    }
   ],
   "source": [
    "actor_kwargs = {'hidden_sizes' : [100,], 'learning_rate' : 0.001}\n",
    "critic_kwargs = {'hidden_sizes' : [100,], 'learning_rate' : 0.001}\n",
    "agent = ElibilityTraceActorCriticAgent(env, actor_kwargs=actor_kwargs,critic_kwargs=critic_kwargs)\n",
    "\n",
    "episodes = 100\n",
    "episode_rewards = []\n",
    "for episode in range(episodes):\n",
    "    episode_reward = play_qlearning(env, agent, train=True,render=True)\n",
    "    episode_rewards.append(episode_reward)\n",
    "plt.plot(episode_rewards)\n",
    "env.close()"
   ]
  },
  {
   "cell_type": "code",
   "execution_count": 10,
   "metadata": {},
   "outputs": [],
   "source": [
    "class PPOReplayer:\n",
    "    def __init__(self):\n",
    "        self.memory=pd.DataFrame()\n",
    "    def store(self,df):\n",
    "        self.memory=pd.concat([self.memory,df],ignore_index=True)\n",
    "    def sample(self,size):\n",
    "        indices=np.random.choice(self.memory.shape[0],size=size)\n",
    "        return (np.stack(self.memory.loc[indices,field]) for field in self.memory.columns)"
   ]
  },
  {
   "cell_type": "code",
   "execution_count": 11,
   "metadata": {},
   "outputs": [],
   "source": [
    "class PPOAgent(QActorCriticAgent):\n",
    "    def __init__(self,env,actor_kwargs,critic_kwargs,clip_ratio=1.0,gamma=0.99,lambd=0.99,min_trajectory_length=1000,batches=1,batch_size=64):\n",
    "        self.action_n=env.action_space.n\n",
    "        self.gamma=gamma\n",
    "        self.lambd=lb=lambd\n",
    "        self.clip_ratio=clip_ratio\n",
    "        self.min_trajectory_length=min_trajectory_length\n",
    "        self.batches=batches\n",
    "        self.batch_size=batch_size\n",
    "        \n",
    "        self.trajectory=[]\n",
    "        self.replayer=PPOReplayer()\n",
    "        \n",
    "        self.actor_net=self.build_network(output_size=self.action_n,output_activation=tf.nn.softmax,**actor_kwargs)\n",
    "        self.critic_net=self.build_network(output_size=1,**critic_kwargs)\n",
    "        \n",
    "    def learn(self,observation,action,reward,done):\n",
    "        self.trajectory.append((observation,action,reward))\n",
    "        \n",
    "        if done:\n",
    "            df=pd.DataFrame(self.trajectory,columns=['observation','action','reward'])\n",
    "            observations=np.stack(df['observation'])\n",
    "            df['v']=self.critic_net.predict(observations)\n",
    "            pis=self.actor_net.predict(observations)\n",
    "            df['pi']=[pi[action] for pi,action in zip(pis,df['action'])]\n",
    "            \n",
    "            df['next_v']=df['v'].shift(-1).fillna(0.)\n",
    "            df['u']=df['reward']+self.gamma*df['next_v']\n",
    "            df['delta']=df['u']-df['v']\n",
    "            df['return']=df['reward']\n",
    "            df['advantage']=df['delta']\n",
    "            for i in df.index[-2::-1]:\n",
    "                df.loc[i,'return']+=self.gamma*df.loc[i+1,'return']\n",
    "                df.loc[i,'advantage']+=self.gamma*self.lambd*df.loc[i+1,'advantage']\n",
    "            fields=['observation','action','pi','advantage','return']\n",
    "            self.replayer.store(df[fields])\n",
    "            self.trajectory=[]\n",
    "            \n",
    "            if len(self.replayer.memory)>self.min_trajectory_length:\n",
    "                for batch in range(self.batches):\n",
    "                    observations,actions,pis,advantages,returns=self.replayer.sample(size=self.batch_size)\n",
    "                    \n",
    "                    s_tensor=tf.convert_to_tensor(observations,dtype=tf.float32)\n",
    "                    gather_tensor=tf.convert_to_tensor([(i,a) for i,a in enumerate(actions)],dtype=tf.int32)\n",
    "                    pi_old_tensor=tf.convert_to_tensor(pis,dtype=tf.float32)\n",
    "                    advantage_tensor=tf.convert_to_tensor(advantages,dtype=tf.float32)\n",
    "                    \n",
    "                    with tf.GradientTape() as tape:\n",
    "                        all_pi_tensor=self.actor_net(s_tensor)\n",
    "                        pi_tensor=tf.gather_nd(all_pi_tensor,gather_tensor)\n",
    "                        surrogate_advantage_tensor=(pi_tensor/pi_old_tensor)*advantage_tensor\n",
    "                        clip_times_advantage_tensor=self.clip_ratio*surrogate_advantage_tensor\n",
    "                        max_surrogate_advantage_tensor=advantage_tensor+tf.where(advantage_tensor>0.,clip_times_advantage_tensor,-clip_times_advantage_tensor)\n",
    "                        clipped_surrogate_advantage_tensor=tf.minimum(surrogate_advantage_tensor,max_surrogate_advantage_tensor)\n",
    "                        loss_tensor=-tf.reduce_mean(clipped_surrogate_advantage_tensor)\n",
    "                    actor_grads=tape.gradient(loss_tensor,self.actor_net.variables)\n",
    "                    self.actor_net.optimizer.apply_gradients(zip(actor_grads,self.actor_net.variables))\n",
    "                    \n",
    "                    self.critic_net.fit(observations,returns,verbose=0)\n",
    "                    \n",
    "                self.replayer=PPOReplayer()"
   ]
  },
  {
   "cell_type": "code",
   "execution_count": 12,
   "metadata": {},
   "outputs": [],
   "source": [
    "def play_montecarlo(env,agent,render=False,train=False):\n",
    "    observation=env.reset()\n",
    "    episode_reward=0.\n",
    "    while True:\n",
    "        if render:\n",
    "            env.render()\n",
    "        action=agent.decide(observation)\n",
    "        next_observation,reward,done,_=env.step(action)\n",
    "        episode_reward+=reward\n",
    "        if train:\n",
    "            agent.learn(observation,action,reward,done)\n",
    "        if done:\n",
    "            break\n",
    "        observation=next_observation\n",
    "    return episode_reward"
   ]
  },
  {
   "cell_type": "code",
   "execution_count": 14,
   "metadata": {},
   "outputs": [
    {
     "data": {
      "text/plain": [
       "[<matplotlib.lines.Line2D at 0x7fc192d1afd0>]"
      ]
     },
     "execution_count": 14,
     "metadata": {},
     "output_type": "execute_result"
    },
    {
     "data": {
      "image/png": "[encoded data removed]",
      "text/plain": [
       "<Figure size 432x288 with 1 Axes>"
      ]
     },
     "metadata": {
      "needs_background": "light"
     },
     "output_type": "display_data"
    }
   ],
   "source": [
    "actor_kwargs = {'hidden_sizes' : [100,], 'learning_rate' : 0.001}\n",
    "critic_kwargs = {'hidden_sizes' : [100,], 'learning_rate' : 0.002}\n",
    "agent = PPOAgent(env, actor_kwargs=actor_kwargs,critic_kwargs=critic_kwargs, batches=50)\n",
    "\n",
    "episodes = 200\n",
    "episode_rewards = []\n",
    "for episode in range(episodes):\n",
    "    episode_reward = play_montecarlo(env, agent, train=True)\n",
    "    episode_rewards.append(episode_reward)\n",
    "plt.plot(episode_rewards)"
   ]
  },
  {
   "cell_type": "code",
   "execution_count": 18,
   "metadata": {},
   "outputs": [],
   "source": [
    "class OffPACAgent:\n",
    "    def __init__(self,env,actor_kwargs,critic_kwargs,gamma=0.99):\n",
    "        self.action_n=env.action_space.n\n",
    "        self.gamma=gamma\n",
    "        self.discount=1.\n",
    "        self.critic_learning_rate=critic_kwargs['learning_rate']\n",
    "        \n",
    "        self.actor_net=self.build_network(output_size=self.action_n,output_activation=tf.nn.softmax,**actor_kwargs)\n",
    "        self.critic_net=self.build_network(output_size=self.action_n,**critic_kwargs)\n",
    "        \n",
    "    def build_network(self,hidden_sizes,output_size,activation=tf.nn.relu,output_activation=None,loss=tf.losses.mse,learning_rate=0.01):\n",
    "        model=keras.Sequential()\n",
    "        for idx,hidden_size in enumerate(hidden_sizes):\n",
    "            model.add(keras.layers.Dense(units=hidden_size,activation=activation))\n",
    "        model.add(keras.layers.Dense(units=output_size,activation=output_activation))\n",
    "        optimizer=tf.optimizers.SGD(learning_rate)\n",
    "        model.compile(optimizer=optimizer,loss=loss)\n",
    "        return model\n",
    "    \n",
    "    def decide(self,observation):\n",
    "        probs=self.actor_net.predict(observation[np.newaxis])[0]\n",
    "        action=np.random.choice(self.action_n,p=probs)\n",
    "        return action\n",
    "    \n",
    "    def learn(self,observation,action,behavior,reward,next_observation,done):\n",
    "        observations=np.float32(observation[np.newaxis])\n",
    "        pi=self.actor_net(observations)[0,action]\n",
    "        q=self.critic_net(observations)[0,action]\n",
    "        \n",
    "        x_tensor=tf.convert_to_tensor(observations,dtype=tf.float32)\n",
    "        with tf.GradientTape() as tape:\n",
    "            pi_tensor=self.actor_net(x_tensor)\n",
    "            loss_tensor=-self.discount*q/behavior*pi_tensor[0,action]\n",
    "        grad_tensors=tape.gradient(loss_tensor,self.actor_net.variables)\n",
    "        self.actor_net.optimizer.apply_gradients(zip(grad_tensors,self.actor_net.variables))\n",
    "        \n",
    "        next_q=self.critic_net.predict(next_observation[np.newaxis])[0,action]\n",
    "        u=reward+self.gamma*(1-done)*next_q\n",
    "        u_tensor=tf.convert_to_tensor(u,dtype=tf.float32)\n",
    "        with tf.GradientTape() as tape:\n",
    "            q_tensor=self.critic_net(x_tensor)\n",
    "            mse_tensor=tf.losses.MSE(u_tensor,q_tensor)\n",
    "            loss_tensor=pi/behavior*mse_tensor\n",
    "        grad_tensors=tape.gradient(loss_tensor,self.critic_net.variables)\n",
    "        self.critic_net.optimizer.apply_gradients(zip(grad_tensors,self.critic_net.variables))\n",
    "        \n",
    "        if done:\n",
    "            self.discount=1.\n",
    "        else:\n",
    "            self.discount*=self.gamma"
   ]
  },
  {
   "cell_type": "code",
   "execution_count": 19,
   "metadata": {},
   "outputs": [],
   "source": [
    "class RandomAgent:\n",
    "    def __init__(self,env):\n",
    "        self.action_n=env.action_space.n\n",
    "    \n",
    "    def decide(self,observation):\n",
    "        action=np.random.choice(self.action_n)\n",
    "        behavior=1./self.action_n\n",
    "        return action,behavior"
   ]
  },
  {
   "cell_type": "code",
   "execution_count": 20,
   "metadata": {},
   "outputs": [
    {
     "data": {
      "text/plain": [
       "[<matplotlib.lines.Line2D at 0x7fc187cda908>]"
      ]
     },
     "execution_count": 20,
     "metadata": {},
     "output_type": "execute_result"
    },
    {
     "data": {
      "image/png": "[encoded data removed]",
      "text/plain": [
       "<Figure size 432x288 with 1 Axes>"
      ]
     },
     "metadata": {
      "needs_background": "light"
     },
     "output_type": "display_data"
    }
   ],
   "source": [
    "actor_kwargs = {'hidden_sizes' : [100,], 'learning_rate' : 0.0005}\n",
    "critic_kwargs = {'hidden_sizes' : [100,], 'learning_rate' : 0.0005}\n",
    "agent = OffPACAgent(env, actor_kwargs=actor_kwargs,critic_kwargs=critic_kwargs)\n",
    "behavior_agent = RandomAgent(env)\n",
    "\n",
    "episodes=80\n",
    "episode_rewards=[]\n",
    "for episode in range(episodes):\n",
    "    observation=env.reset()\n",
    "    episode_reward=0.\n",
    "    while True:\n",
    "        action,behavior=behavior_agent.decide(observation)\n",
    "        next_observation,reward,done,_=env.step(action)\n",
    "        episode_reward+=reward\n",
    "        agent.learn(observation,action,behavior,reward,next_observation,done)\n",
    "        if done:\n",
    "            break\n",
    "        observation=next_observation\n",
    "    episode_rewards.append(episode_reward)\n",
    "plt.plot(episode_rewards)"
   ]
  },
  {
   "cell_type": "code",
   "execution_count": 21,
   "metadata": {},
   "outputs": [],
   "source": [
    "class DQNReplayer:\n",
    "    def __init__(self,capacity):\n",
    "        self.memory=pd.DataFrame(index=range(capacity),columns=['observation','action','reward','next_observation','done'])\n",
    "        self.i=0\n",
    "        self.count=0\n",
    "        self.capacity=capacity\n",
    "        \n",
    "    def store(self,*args):\n",
    "        self.memory.loc[self.i]=args\n",
    "        self.i=(self.i+1)%self.capacity\n",
    "        self.count=min(self.count+1,self.capacity)\n",
    "        \n",
    "    def sample(self,size):\n",
    "        indices=np.random.choice(self.count,size=size)\n",
    "        return (np.stack(self.memory.loc[indices,field]) for field in self.memory.columns)"
   ]
  },
  {
   "cell_type": "code",
   "execution_count": 22,
   "metadata": {},
   "outputs": [],
   "source": [
    "class SACAgent(QActorCriticAgent):\n",
    "    def __init__(self,env,actor_kwargs,critic_kwargs,gamma=0.99,alpha=0.2,net_learning_rate=0.1,replayer_capacity=1000,batches=1,batch_size=64):\n",
    "        observation_dim=env.observation_space.shape[0]\n",
    "        self.action_n=env.action_space.n\n",
    "        self.gamma=gamma\n",
    "        self.alpha=alpha\n",
    "        self.net_learning_rate=net_learning_rate\n",
    "        \n",
    "        self.batches=batches\n",
    "        self.batch_size=batch_size\n",
    "        self.replayer=DQNReplayer(replayer_capacity)\n",
    "        \n",
    "        def sac_loss(y_ture,y_pred):\n",
    "            qs=alpha*tf.math.xlogy(y_pred,y_pred)-y_pred*y_ture\n",
    "            return tf.reduce_sum(qs,axis=-1)\n",
    "        \n",
    "        self.actor_net=self.build_network(input_size=observation_dim,output_size=self.action_n,output_activation=tf.nn.softmax,loss=sac_loss,**actor_kwargs)\n",
    "        self.q0_net=self.build_network(input_size=observation_dim,output_size=self.action_n,**critic_kwargs)\n",
    "        self.q1_net=self.build_network(input_size=observation_dim,output_size=self.action_n,**critic_kwargs)\n",
    "        self.v_evaluate_net=self.build_network(input_size=observation_dim,output_size=1,**critic_kwargs)\n",
    "        self.v_target_net=self.build_network(input_size=observation_dim,output_size=1,**critic_kwargs)\n",
    "        \n",
    "        self.update_target_net(self.v_target_net,self.v_evaluate_net)\n",
    "        \n",
    "    def update_target_net(self,target_net,evaluate_net,learning_rate=1.):\n",
    "        target_weights=target_net.get_weights()\n",
    "        evaluate_weights=evaluate_net.get_weights()\n",
    "        average_weights=[(1.-learning_rate)*t+learning_rate*e for t,e in zip(target_weights,evaluate_weights)]\n",
    "        target_net.set_weights(average_weights)\n",
    "        \n",
    "    def learn(self,observation,action,reward,next_observation,done):\n",
    "        self.replayer.store(observation,action,reward,next_observation,done)\n",
    "        \n",
    "        if done:\n",
    "            for batch in range(self.batches):\n",
    "                observations,actions,rewards,next_observations,dones=self.replayer.sample(self.batch_size)\n",
    "                \n",
    "                pis=self.actor_net.predict(observations)\n",
    "                q0s=self.q0_net.predict(observations)\n",
    "                q1s=self.q1_net.predict(observations)\n",
    "                \n",
    "                self.actor_net.fit(observations,q0s,verbose=0)\n",
    "                \n",
    "                q01s=np.minimum(q0s,q1s)\n",
    "                entropic_q01s=pis*q01s-self.alpha*scipy.special.xlogy(pis,pis)\n",
    "                v_targets=entropic_q01s.sum(axis=-1)\n",
    "                self.v_evaluate_net.fit(observations,v_targets,verbose=0)\n",
    "                \n",
    "                next_vs=self.v_target_net.predict(next_observations)\n",
    "                q_targets=rewards+self.gamma*(1-dones)*next_vs[:,0]\n",
    "                q0s[range(self.batch_size),actions]=q_targets\n",
    "                q1s[range(self.batch_size),actions]=q_targets\n",
    "                self.q0_net.fit(observations,q0s,verbose=0)\n",
    "                self.q1_net.fit(observations,q1s,verbose=0)\n",
    "                \n",
    "                self.update_target_net(self.v_target_net,self.v_evaluate_net,self.net_learning_rate)"
   ]
  },
  {
   "cell_type": "code",
   "execution_count": 23,
   "metadata": {},
   "outputs": [],
   "source": [
    "def play_qlearning(env,agent,train=False,render=False):\n",
    "    episode_reward=0\n",
    "    observation=env.reset()\n",
    "    while True:\n",
    "        if render:\n",
    "            env.render()\n",
    "        action=agent.decide(observation)\n",
    "        next_observation,reward,done,_=env.step(action)\n",
    "        episode_reward+=reward\n",
    "        if train:\n",
    "            agent.learn(observation,action,reward,next_observation,done)\n",
    "        if done:\n",
    "            break\n",
    "        observation=next_observation\n",
    "    return episode_reward"
   ]
  },
  {
   "cell_type": "code",
   "execution_count": 24,
   "metadata": {},
   "outputs": [
    {
     "data": {
      "text/plain": [
       "[<matplotlib.lines.Line2D at 0x7fc18690ab00>]"
      ]
     },
     "execution_count": 24,
     "metadata": {},
     "output_type": "execute_result"
    },
    {
     "data": {
      "image/png": "[encoded data removed]",
      "text/plain": [
       "<Figure size 432x288 with 1 Axes>"
      ]
     },
     "metadata": {
      "needs_background": "light"
     },
     "output_type": "display_data"
    }
   ],
   "source": [
    "actor_kwargs = {'hidden_sizes' : [100,], 'learning_rate' : 0.01}\n",
    "critic_kwargs = {'hidden_sizes' : [100,], 'learning_rate' : 0.01}\n",
    "agent = SACAgent(env, actor_kwargs=actor_kwargs,critic_kwargs=critic_kwargs, batches=50)\n",
    "\n",
    "episodes = 100\n",
    "episode_rewards = []\n",
    "for episode in range(episodes):\n",
    "    episode_reward = play_qlearning(env, agent, train=True)\n",
    "    episode_rewards.append(episode_reward)    \n",
    "plt.plot(episode_rewards)"
   ]
  },
  {
   "cell_type": "markdown",
   "metadata": {},
   "source": [
    "### 连续动作空间的确定性策略"
   ]
  },
  {
   "cell_type": "code",
   "execution_count": 1,
   "metadata": {},
   "outputs": [],
   "source": [
    "import numpy as np\n",
    "np.random.seed(0)\n",
    "import pandas as pd\n",
    "import matplotlib.pyplot as plt\n",
    "import gym\n",
    "import tensorflow as tf\n",
    "tf.random.set_seed(0)\n",
    "from tensorflow import keras"
   ]
  },
  {
   "cell_type": "code",
   "execution_count": 2,
   "metadata": {},
   "outputs": [
    {
     "data": {
      "text/plain": [
       "[0]"
      ]
     },
     "execution_count": 2,
     "metadata": {},
     "output_type": "execute_result"
    }
   ],
   "source": [
    "env=gym.make('Pendulum-v0')\n",
    "env.seed(0)"
   ]
  },
  {
   "cell_type": "code",
   "execution_count": 3,
   "metadata": {},
   "outputs": [],
   "source": [
    "class DQNReplayer:\n",
    "    def __init__(self,capacity):\n",
    "        self.memory=pd.DataFrame(index=range(capacity),columns=['observation','action','reward','next_observation','done'])\n",
    "        self.i=0\n",
    "        self.count=0\n",
    "        self.capacity=capacity\n",
    "        \n",
    "    def store(self,*args):\n",
    "        self.memory.loc[self.i]=args\n",
    "        self.i=(self.i+1)%self.capacity\n",
    "        self.count=min(self.count+1,self.capacity)\n",
    "        \n",
    "    def sample(self,size):\n",
    "        indices=np.random.choice(self.count,size=size)\n",
    "        return np.stack(self.memory.loc[indices,field] for field in self.memory.columns)"
   ]
  },
  {
   "cell_type": "code",
   "execution_count": 13,
   "metadata": {},
   "outputs": [],
   "source": [
    "class OrnsteinUhlenbeckProcess:\n",
    "    def __init__(self,size,mu=0,sigma=1,theta=.15,dt=.01):\n",
    "        self.size=size\n",
    "        self.mu=mu\n",
    "        self.sigma=sigma\n",
    "        self.theta=theta\n",
    "        self.dt=dt\n",
    "        \n",
    "    def reset(self,x=0.):\n",
    "        self.x=x*np.ones(self.size)\n",
    "    \n",
    "    def __call__(self):\n",
    "        n=np.random.normal(size=self.size)\n",
    "        self.x+=(self.theta*(self.mu-self.x)*self.dt+self.sigma*np.sqrt(self.dt)*n)\n",
    "        return self.x"
   ]
  },
  {
   "cell_type": "code",
   "execution_count": 14,
   "metadata": {},
   "outputs": [],
   "source": [
    "class DDPGAgent:\n",
    "    def __init__(self,env,actor_kwargs,critic_kwargs,replayer_capacity=100000,replayer_initial_transitons=10000,gamma=0.99,batches=1,batch_size=64,net_learning_rate=0.005,noise_scale=0.1,explore=True):\n",
    "        observation_dim=env.observation_space.shape[0]\n",
    "        action_dim=env.action_space.shape[0]\n",
    "        observation_action_dim=observation_dim+action_dim\n",
    "        self.action_low=env.action_space.low\n",
    "        self.action_high=env.action_space.high\n",
    "        self.gamma=gamma\n",
    "        self.net_learning_rate=net_learning_rate\n",
    "        self.explore=explore\n",
    "        \n",
    "        self.batches=batches\n",
    "        self.batch_size=batch_size\n",
    "        self.replayer=DQNReplayer(replayer_capacity)\n",
    "        self.replayer_initial_transitons=replayer_initial_transitons\n",
    "        \n",
    "        self.noise=OrnsteinUhlenbeckProcess(size=(action_dim,),sigma=noise_scale)\n",
    "        self.noise.reset()\n",
    "        \n",
    "        self.actor_evaluate_net = self.build_network(input_size=observation_dim, **actor_kwargs)\n",
    "        self.actor_target_net = self.build_network(input_size=observation_dim, **actor_kwargs)\n",
    "        self.critic_evaluate_net = self.build_network(input_size=observation_action_dim, **critic_kwargs)\n",
    "        self.critic_target_net = self.build_network(input_size=observation_action_dim, **critic_kwargs)\n",
    "        \n",
    "        self.update_target_net(self.actor_target_net,self.actor_evaluate_net)\n",
    "        self.update_target_net(self.critic_target_net,self.critic_evaluate_net)\n",
    "        \n",
    "    def update_target_net(self,target_net,evaluate_net,learning_rate=1.):\n",
    "        target_weights=target_net.get_weights()\n",
    "        evaluate_weights=evaluate_net.get_weights()\n",
    "        average_weights=[(1-learning_rate)*t+learning_rate*e for t,e in zip(target_weights,evaluate_weights)]\n",
    "        target_net.set_weights(average_weights)\n",
    "        \n",
    "    def build_network(self,input_size,hidden_sizes,output_size=1,activation=tf.nn.relu,output_activation=None,loss=tf.losses.mse,learning_rate=0.001):\n",
    "        model=keras.Sequential()\n",
    "        for layer,hidden_size in enumerate(hidden_sizes):\n",
    "            kwargs={'input_shape':(input_size,)} if layer==0 else {}\n",
    "            model.add(keras.layers.Dense(units=output_size,activation=activation,**kwargs))\n",
    "        model.add(keras.layers.Dense(units=output_size,activation=output_activation))\n",
    "        optimizer=tf.optimizers.Adam(learning_rate)\n",
    "        model.compile(optimizer=optimizer,loss=loss)\n",
    "        return model\n",
    "    \n",
    "    def decide(self,observation):\n",
    "        if self.explore and self.replayer.count<self.replayer_initial_transitons:\n",
    "            return np.random.uniform(self.action_low,self.action_high)\n",
    "        \n",
    "        action=self.actor_evaluate_net.predict(observation[np.newaxis])[0]\n",
    "        if self.explore:\n",
    "            noise=self.noise()\n",
    "            action=np.clip(action+noise,self.action_low,self.action_high)\n",
    "        return action\n",
    "    \n",
    "    def learn(self,observation,action,reward,next_observation,done):\n",
    "        self.replayer.store(observation,action,reward,next_observation,done)\n",
    "        \n",
    "        if self.replayer.count>=self.replayer_initial_transitons:\n",
    "            if done:\n",
    "                self.noise.reset()\n",
    "                \n",
    "            for batch in range(self.batches):\n",
    "                observations,actions,rewards,next_observations,dones=self.replayer.sample(self.batch_size)\n",
    "                \n",
    "                observation_tensor=tf.convert_to_tensor(observations,dtype=tf.float32)\n",
    "                with tf.GradientTape() as tape:\n",
    "                    action_tensor=self.actor_evaluate_net(observation_tensor)\n",
    "                    input_tensor=tf.concat([observation_tensor,action_tensor],axis=1)\n",
    "                    q_tensor=self.critic_evaluate_net(input_tensor)\n",
    "                    loss_tensor=-tf.reduce_mean(q_tensor)\n",
    "                grad_tensors=tape.gradient(loss_tensor,self.actor_evaluate_net.variables)\n",
    "                self.actor_evaluate_net.optimizer.apply_gradients(zip(grad_tensors,self.actor_evaluate_net.variables))\n",
    "                \n",
    "                next_actions=self.actor_evaluate_net.predict(next_observations)\n",
    "                observation_actions=np.stack([observations,actions])\n",
    "                next_observatoin_actions=np.stack([next_observations,next_actions])\n",
    "                next_qs=self.critic_evaluate_net.predict(next_observatoin_actions)[:,0]\n",
    "                targets=rewards+self.gamma*next_qs*(1-dones)\n",
    "                self.critic_evaluate_net.fit(observations,targets,verbose=0)\n",
    "                \n",
    "                self.update_target_net(self.actor_target_net,self.actor_evaluate_net,self.net_learning_rate)\n",
    "                self.update_target_net(self.critic_target_net,self.critic_evaluate_net,self.net_learning_rate)"
   ]
  },
  {
   "cell_type": "code",
   "execution_count": 21,
   "metadata": {},
   "outputs": [],
   "source": [
    "def play_qlearning(env,agent,train=False,render=False):\n",
    "    episode_reward=0\n",
    "    observation=env.reset()\n",
    "    while True:\n",
    "        if render:\n",
    "            env.render()\n",
    "        action=agent.decide(observation)\n",
    "        next_observation,reward,done,_=env.step(action)\n",
    "        episode_reward+=reward\n",
    "        if train:\n",
    "            agent.learn(observation,action,reward,next_observation,done)\n",
    "        if done:\n",
    "            break\n",
    "        observation=next_observation\n",
    "    return episode_reward"
   ]
  },
  {
   "cell_type": "code",
   "execution_count": 23,
   "metadata": {},
   "outputs": [],
   "source": [
    "actor_kwargs = {'hidden_sizes' : [32, 64], 'learning_rate' : 0.0001}\n",
    "critic_kwargs = {'hidden_sizes' : [64, 128], 'learning_rate' : 0.001}\n",
    "agent = DDPGAgent(env, actor_kwargs=actor_kwargs,critic_kwargs=critic_kwargs)\n",
    "\n",
    "episodes = 100\n",
    "episode_rewards = []\n",
    "for episode in range(episodes):\n",
    "    episode_reward = play_qlearning(env, agent, train=True,render=True)\n",
    "    episode_rewards.append(episode_reward)\n",
    "plt.plot(episode_rewards)\n",
    "env.close()"
   ]
  },
  {
   "cell_type": "code",
   "execution_count": null,
   "metadata": {},
   "outputs": [],
   "source": []
  }
 ],
 "metadata": {
  "kernelspec": {
   "display_name": "Python 3",
   "language": "python",
   "name": "python3"
  },
  "language_info": {
   "codemirror_mode": {
    "name": "ipython",
    "version": 3
   },
   "file_extension": ".py",
   "mimetype": "text/x-python",
   "name": "python",
   "nbconvert_exporter": "python",
   "pygments_lexer": "ipython3",
   "version": "3.7.3"
  }
 },
 "nbformat": 4,
 "nbformat_minor": 2
}
